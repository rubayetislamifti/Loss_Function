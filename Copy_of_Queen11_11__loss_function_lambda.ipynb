{
  "cells": [
    {
      "cell_type": "markdown",
      "metadata": {
        "id": "view-in-github",
        "colab_type": "text"
      },
      "source": [
        "<a href=\"https://colab.research.google.com/github/rubayetislamifti/Loss_Function/blob/main/Copy_of_Queen11_11__loss_function_lambda.ipynb\" target=\"_parent\"><img src=\"https://colab.research.google.com/assets/colab-badge.svg\" alt=\"Open In Colab\"/></a>"
      ]
    },
    {
      "cell_type": "code",
      "execution_count": null,
      "metadata": {
        "colab": {
          "base_uri": "https://localhost:8080/"
        },
        "id": "lSroTjL9WvW7",
        "outputId": "d7a5b690-25b6-43e4-e87c-482e623f06bd"
      },
      "outputs": [
        {
          "output_type": "stream",
          "name": "stdout",
          "text": [
            "2.6.0+cu124\n"
          ]
        }
      ],
      "source": [
        "import torch\n",
        "print(torch.__version__)"
      ]
    },
    {
      "cell_type": "code",
      "execution_count": null,
      "metadata": {
        "colab": {
          "base_uri": "https://localhost:8080/"
        },
        "id": "MTgI-BTYXDYd",
        "outputId": "b0d1b98a-de80-4784-f0d6-1c946ca84c50"
      },
      "outputs": [
        {
          "output_type": "stream",
          "name": "stdout",
          "text": [
            "Found existing installation: torch 2.6.0+cu124\n",
            "Uninstalling torch-2.6.0+cu124:\n",
            "  Successfully uninstalled torch-2.6.0+cu124\n"
          ]
        }
      ],
      "source": [
        "!pip uninstall torch -y"
      ]
    },
    {
      "cell_type": "code",
      "execution_count": null,
      "metadata": {
        "colab": {
          "base_uri": "https://localhost:8080/"
        },
        "id": "bNsk1YZWXQ0U",
        "outputId": "83c55b25-a2c7-4442-a275-81b56c8e6ec0"
      },
      "outputs": [
        {
          "output_type": "stream",
          "name": "stdout",
          "text": [
            "Requirement already satisfied: torch==2.3.0 in /usr/local/lib/python3.11/dist-packages (2.3.0)\n",
            "Requirement already satisfied: filelock in /usr/local/lib/python3.11/dist-packages (from torch==2.3.0) (3.18.0)\n",
            "Requirement already satisfied: typing-extensions>=4.8.0 in /usr/local/lib/python3.11/dist-packages (from torch==2.3.0) (4.13.2)\n",
            "Requirement already satisfied: sympy in /usr/local/lib/python3.11/dist-packages (from torch==2.3.0) (1.13.1)\n",
            "Requirement already satisfied: networkx in /usr/local/lib/python3.11/dist-packages (from torch==2.3.0) (3.4.2)\n",
            "Requirement already satisfied: jinja2 in /usr/local/lib/python3.11/dist-packages (from torch==2.3.0) (3.1.6)\n",
            "Requirement already satisfied: fsspec in /usr/local/lib/python3.11/dist-packages (from torch==2.3.0) (2025.3.2)\n",
            "Requirement already satisfied: nvidia-cuda-nvrtc-cu12==12.1.105 in /usr/local/lib/python3.11/dist-packages (from torch==2.3.0) (12.1.105)\n",
            "Requirement already satisfied: nvidia-cuda-runtime-cu12==12.1.105 in /usr/local/lib/python3.11/dist-packages (from torch==2.3.0) (12.1.105)\n",
            "Requirement already satisfied: nvidia-cuda-cupti-cu12==12.1.105 in /usr/local/lib/python3.11/dist-packages (from torch==2.3.0) (12.1.105)\n",
            "Requirement already satisfied: nvidia-cudnn-cu12==8.9.2.26 in /usr/local/lib/python3.11/dist-packages (from torch==2.3.0) (8.9.2.26)\n",
            "Requirement already satisfied: nvidia-cublas-cu12==12.1.3.1 in /usr/local/lib/python3.11/dist-packages (from torch==2.3.0) (12.1.3.1)\n",
            "Requirement already satisfied: nvidia-cufft-cu12==11.0.2.54 in /usr/local/lib/python3.11/dist-packages (from torch==2.3.0) (11.0.2.54)\n",
            "Requirement already satisfied: nvidia-curand-cu12==10.3.2.106 in /usr/local/lib/python3.11/dist-packages (from torch==2.3.0) (10.3.2.106)\n",
            "Requirement already satisfied: nvidia-cusolver-cu12==11.4.5.107 in /usr/local/lib/python3.11/dist-packages (from torch==2.3.0) (11.4.5.107)\n",
            "Requirement already satisfied: nvidia-cusparse-cu12==12.1.0.106 in /usr/local/lib/python3.11/dist-packages (from torch==2.3.0) (12.1.0.106)\n",
            "Requirement already satisfied: nvidia-nccl-cu12==2.20.5 in /usr/local/lib/python3.11/dist-packages (from torch==2.3.0) (2.20.5)\n",
            "Requirement already satisfied: nvidia-nvtx-cu12==12.1.105 in /usr/local/lib/python3.11/dist-packages (from torch==2.3.0) (12.1.105)\n",
            "Requirement already satisfied: triton==2.3.0 in /usr/local/lib/python3.11/dist-packages (from torch==2.3.0) (2.3.0)\n",
            "Requirement already satisfied: nvidia-nvjitlink-cu12 in /usr/local/lib/python3.11/dist-packages (from nvidia-cusolver-cu12==11.4.5.107->torch==2.3.0) (12.5.82)\n",
            "Requirement already satisfied: MarkupSafe>=2.0 in /usr/local/lib/python3.11/dist-packages (from jinja2->torch==2.3.0) (3.0.2)\n",
            "Requirement already satisfied: mpmath<1.4,>=1.1.0 in /usr/local/lib/python3.11/dist-packages (from sympy->torch==2.3.0) (1.3.0)\n"
          ]
        }
      ],
      "source": [
        "!pip install torch==2.3.0"
      ]
    },
    {
      "cell_type": "code",
      "execution_count": null,
      "metadata": {
        "colab": {
          "base_uri": "https://localhost:8080/"
        },
        "id": "n8jK2tgga3u1",
        "outputId": "0fa3972a-5bfd-43a1-e55f-f89ed0f5fed8"
      },
      "outputs": [
        {
          "output_type": "stream",
          "name": "stdout",
          "text": [
            "Looking in links: https://data.dgl.ai/wheels/torch-2.3/cu121/repo.html\n",
            "Collecting dgl\n",
            "  Downloading https://data.dgl.ai/wheels/torch-2.3/cu121/dgl-2.4.0%2Bcu121-cp311-cp311-manylinux1_x86_64.whl (355.1 MB)\n",
            "\u001b[2K     \u001b[90m━━━━━━━━━━━━━━━━━━━━━━━━━━━━━━━━━━━━━━━\u001b[0m \u001b[32m355.1/355.1 MB\u001b[0m \u001b[31m1.4 MB/s\u001b[0m eta \u001b[36m0:00:00\u001b[0m\n",
            "\u001b[?25hRequirement already satisfied: networkx>=2.1 in /usr/local/lib/python3.11/dist-packages (from dgl) (3.4.2)\n",
            "Requirement already satisfied: numpy>=1.14.0 in /usr/local/lib/python3.11/dist-packages (from dgl) (2.0.2)\n",
            "Requirement already satisfied: packaging in /usr/local/lib/python3.11/dist-packages (from dgl) (24.2)\n",
            "Requirement already satisfied: pandas in /usr/local/lib/python3.11/dist-packages (from dgl) (2.2.2)\n",
            "Requirement already satisfied: psutil>=5.8.0 in /usr/local/lib/python3.11/dist-packages (from dgl) (5.9.5)\n",
            "Requirement already satisfied: pydantic>=2.0 in /usr/local/lib/python3.11/dist-packages (from dgl) (2.11.3)\n",
            "Requirement already satisfied: pyyaml in /usr/local/lib/python3.11/dist-packages (from dgl) (6.0.2)\n",
            "Requirement already satisfied: requests>=2.19.0 in /usr/local/lib/python3.11/dist-packages (from dgl) (2.32.3)\n",
            "Requirement already satisfied: scipy>=1.1.0 in /usr/local/lib/python3.11/dist-packages (from dgl) (1.14.1)\n",
            "Requirement already satisfied: tqdm in /usr/local/lib/python3.11/dist-packages (from dgl) (4.67.1)\n",
            "Requirement already satisfied: torch<=2.4.0 in /usr/local/lib/python3.11/dist-packages (from dgl) (2.3.0)\n",
            "Requirement already satisfied: annotated-types>=0.6.0 in /usr/local/lib/python3.11/dist-packages (from pydantic>=2.0->dgl) (0.7.0)\n",
            "Requirement already satisfied: pydantic-core==2.33.1 in /usr/local/lib/python3.11/dist-packages (from pydantic>=2.0->dgl) (2.33.1)\n",
            "Requirement already satisfied: typing-extensions>=4.12.2 in /usr/local/lib/python3.11/dist-packages (from pydantic>=2.0->dgl) (4.13.2)\n",
            "Requirement already satisfied: typing-inspection>=0.4.0 in /usr/local/lib/python3.11/dist-packages (from pydantic>=2.0->dgl) (0.4.0)\n",
            "Requirement already satisfied: charset-normalizer<4,>=2 in /usr/local/lib/python3.11/dist-packages (from requests>=2.19.0->dgl) (3.4.1)\n",
            "Requirement already satisfied: idna<4,>=2.5 in /usr/local/lib/python3.11/dist-packages (from requests>=2.19.0->dgl) (3.10)\n",
            "Requirement already satisfied: urllib3<3,>=1.21.1 in /usr/local/lib/python3.11/dist-packages (from requests>=2.19.0->dgl) (2.3.0)\n",
            "Requirement already satisfied: certifi>=2017.4.17 in /usr/local/lib/python3.11/dist-packages (from requests>=2.19.0->dgl) (2025.1.31)\n",
            "Requirement already satisfied: filelock in /usr/local/lib/python3.11/dist-packages (from torch<=2.4.0->dgl) (3.18.0)\n",
            "Requirement already satisfied: sympy in /usr/local/lib/python3.11/dist-packages (from torch<=2.4.0->dgl) (1.13.1)\n",
            "Requirement already satisfied: jinja2 in /usr/local/lib/python3.11/dist-packages (from torch<=2.4.0->dgl) (3.1.6)\n",
            "Requirement already satisfied: fsspec in /usr/local/lib/python3.11/dist-packages (from torch<=2.4.0->dgl) (2025.3.2)\n",
            "Requirement already satisfied: nvidia-cuda-nvrtc-cu12==12.1.105 in /usr/local/lib/python3.11/dist-packages (from torch<=2.4.0->dgl) (12.1.105)\n",
            "Requirement already satisfied: nvidia-cuda-runtime-cu12==12.1.105 in /usr/local/lib/python3.11/dist-packages (from torch<=2.4.0->dgl) (12.1.105)\n",
            "Requirement already satisfied: nvidia-cuda-cupti-cu12==12.1.105 in /usr/local/lib/python3.11/dist-packages (from torch<=2.4.0->dgl) (12.1.105)\n",
            "Requirement already satisfied: nvidia-cudnn-cu12==8.9.2.26 in /usr/local/lib/python3.11/dist-packages (from torch<=2.4.0->dgl) (8.9.2.26)\n",
            "Requirement already satisfied: nvidia-cublas-cu12==12.1.3.1 in /usr/local/lib/python3.11/dist-packages (from torch<=2.4.0->dgl) (12.1.3.1)\n",
            "Requirement already satisfied: nvidia-cufft-cu12==11.0.2.54 in /usr/local/lib/python3.11/dist-packages (from torch<=2.4.0->dgl) (11.0.2.54)\n",
            "Requirement already satisfied: nvidia-curand-cu12==10.3.2.106 in /usr/local/lib/python3.11/dist-packages (from torch<=2.4.0->dgl) (10.3.2.106)\n",
            "Requirement already satisfied: nvidia-cusolver-cu12==11.4.5.107 in /usr/local/lib/python3.11/dist-packages (from torch<=2.4.0->dgl) (11.4.5.107)\n",
            "Requirement already satisfied: nvidia-cusparse-cu12==12.1.0.106 in /usr/local/lib/python3.11/dist-packages (from torch<=2.4.0->dgl) (12.1.0.106)\n",
            "Requirement already satisfied: nvidia-nccl-cu12==2.20.5 in /usr/local/lib/python3.11/dist-packages (from torch<=2.4.0->dgl) (2.20.5)\n",
            "Requirement already satisfied: nvidia-nvtx-cu12==12.1.105 in /usr/local/lib/python3.11/dist-packages (from torch<=2.4.0->dgl) (12.1.105)\n",
            "Requirement already satisfied: triton==2.3.0 in /usr/local/lib/python3.11/dist-packages (from torch<=2.4.0->dgl) (2.3.0)\n",
            "Requirement already satisfied: nvidia-nvjitlink-cu12 in /usr/local/lib/python3.11/dist-packages (from nvidia-cusolver-cu12==11.4.5.107->torch<=2.4.0->dgl) (12.5.82)\n",
            "Requirement already satisfied: python-dateutil>=2.8.2 in /usr/local/lib/python3.11/dist-packages (from pandas->dgl) (2.8.2)\n",
            "Requirement already satisfied: pytz>=2020.1 in /usr/local/lib/python3.11/dist-packages (from pandas->dgl) (2025.2)\n",
            "Requirement already satisfied: tzdata>=2022.7 in /usr/local/lib/python3.11/dist-packages (from pandas->dgl) (2025.2)\n",
            "Requirement already satisfied: six>=1.5 in /usr/local/lib/python3.11/dist-packages (from python-dateutil>=2.8.2->pandas->dgl) (1.17.0)\n",
            "Requirement already satisfied: MarkupSafe>=2.0 in /usr/local/lib/python3.11/dist-packages (from jinja2->torch<=2.4.0->dgl) (3.0.2)\n",
            "Requirement already satisfied: mpmath<1.4,>=1.1.0 in /usr/local/lib/python3.11/dist-packages (from sympy->torch<=2.4.0->dgl) (1.3.0)\n",
            "Installing collected packages: dgl\n",
            "Successfully installed dgl-2.4.0+cu121\n"
          ]
        }
      ],
      "source": [
        "!pip install dgl -f https://data.dgl.ai/wheels/torch-2.3/cu121/repo.html"
      ]
    },
    {
      "cell_type": "code",
      "execution_count": null,
      "metadata": {
        "id": "kcnKQ69WbBvt",
        "colab": {
          "base_uri": "https://localhost:8080/"
        },
        "outputId": "4e82cc21-e3b5-4f9b-bb9b-5395bec91306"
      },
      "outputs": [
        {
          "output_type": "stream",
          "name": "stderr",
          "text": [
            "DGL backend not selected or invalid.  Assuming PyTorch for now.\n"
          ]
        },
        {
          "output_type": "stream",
          "name": "stdout",
          "text": [
            "Setting the default backend to \"pytorch\". You can change it in the ~/.dgl/config.json file or export the DGLBACKEND environment variable.  Valid options are: pytorch, mxnet, tensorflow (all lowercase)\n"
          ]
        }
      ],
      "source": [
        "#-------------- Necessary imports -------------------\n",
        "import random\n",
        "import torch\n",
        "import warnings\n",
        "import numpy as np\n",
        "import networkx as nx\n",
        "import os\n",
        "import dgl\n",
        "\n",
        "from time import time\n",
        "\n",
        "warnings.filterwarnings('ignore')\n"
      ]
    },
    {
      "cell_type": "code",
      "execution_count": null,
      "metadata": {
        "id": "azU8spJzbFwk"
      },
      "outputs": [],
      "source": [
        "#------- Known chromatic numbers for specified problems (from references) ---------\n",
        "chromatic_numbers = {\n",
        "    # COLOR graphs\n",
        "    'jean.col': 10,\n",
        "    'anna.col': 11,\n",
        "    'huck.col': 11,\n",
        "    'david.col': 11,\n",
        "    'homer.col': 13,\n",
        "    'myciel5.col': 6,\n",
        "    'myciel6.col': 7,\n",
        "    'queen5_5.col': 5,\n",
        "    'queen6_6.col': 7,\n",
        "    'queen7_7.col': 7,\n",
        "    'queen8_8.col': 9,\n",
        "    'queen9_9.col': 10,\n",
        "    'queen8_12.col': 12,\n",
        "    'queen11_11.col': 11,\n",
        "    'queen13_13.col': 13,\n",
        "    # Citations graphs\n",
        "    'cora.cites': 5,\n",
        "    'citeseer.cites': 6,\n",
        "    'pubmed.cites': 8\n",
        "}"
      ]
    },
    {
      "cell_type": "code",
      "execution_count": null,
      "metadata": {
        "id": "2P9akNUdbJyC"
      },
      "outputs": [],
      "source": [
        "#----- Setting up seeds ------------\n",
        "\n",
        "import random\n",
        "def set_seed(seed):\n",
        "  \"\"\"\n",
        "  Setting seeds for training\n",
        "  : Seed type: int\n",
        "\n",
        "  \"\"\"\n",
        "  random.seed(seed)\n",
        "  np.random.seed(seed)\n",
        "  torch.manual_seed(seed)\n",
        "  if torch.cuda.is_available():\n",
        "    torch.cuda.manual_seed(seed)\n",
        "\n"
      ]
    },
    {
      "cell_type": "code",
      "execution_count": null,
      "metadata": {
        "id": "ddZ-fn6VbMmt"
      },
      "outputs": [],
      "source": [
        "#------------ Getting adjacency matrix of the graph -------------\n",
        "\n",
        "def get_adjacency_matrix(graph, torch_device, torch_dtype):\n",
        "  \"\"\"\n",
        "  Loading adjacency matrix of the graph\n",
        "\n",
        "  :param graph: Graph object\n",
        "  :type of graph: network.OrderedGraph\n",
        "  :param torch_device: Compute device(GPU or CPU) to map computations\n",
        "  :type of torch_device: str\n",
        "  :param torch_dtype: Pytorch datatype to use for matrix\n",
        "  :type torch_dtype: str\n",
        "  :return: Adjacency matrix of the graph\n",
        "  :return type: torch.tensor\n",
        "  \"\"\"\n",
        "\n",
        "  adj_matrix = nx.linalg.graphmatrix.adjacency_matrix(graph).todense() # creating adjacency matrix. Need to know how and differences\n",
        "  adj_matrix_final = torch.tensor(adj_matrix).type(torch_dtype).to(torch_device)\n",
        "\n",
        "  return adj_matrix_final\n"
      ]
    },
    {
      "cell_type": "code",
      "execution_count": null,
      "metadata": {
        "id": "ssgZvfYWbPHE"
      },
      "outputs": [],
      "source": [
        "#---------- Parsing the lines from Colored graphs ---------\n",
        "\n",
        "def parse_lines(lines, node_offset):\n",
        "  \"\"\"\n",
        "  This function will parse lines from the files. \"e\" denotes an edge between two node. So, it will skip the first character, and return those two nodes.\n",
        "\n",
        "  :param lines: line to be parsed\n",
        "  :type lines: str\n",
        "  :param node_offset: How much to add to count for file numbering\n",
        "  :type node_off_set: int\n",
        "  :return: Two nodes of a connected edge (node_from, node_to)\n",
        "  :return type: int, int\n",
        "  \"\"\"\n",
        "\n",
        "  node_from, node_to = lines.split(' ')[1:] #Skipping the first character as it specifies there is an edge\n",
        "  node_from, node_to = int(node_from)+node_offset, int(node_to)+node_offset ## nodes in file are 1-indexed, whereas python is 0-indexed\n",
        "\n",
        "  return node_from, node_to\n"
      ]
    },
    {
      "cell_type": "code",
      "execution_count": null,
      "metadata": {
        "id": "EV1dFuf5bRmc"
      },
      "outputs": [],
      "source": [
        "import networkx as nx\n",
        "import torch\n",
        "import torch.nn as nn\n",
        "import torch.nn.functional as F\n",
        "import random\n",
        "import numpy as np\n",
        "import os\n",
        "\n",
        "from dgl.nn.pytorch import SAGEConv\n",
        "from dgl.nn.pytorch import GraphConv\n",
        "from itertools import chain"
      ]
    },
    {
      "cell_type": "code",
      "execution_count": null,
      "metadata": {
        "id": "1gAbsw4kbT8j"
      },
      "outputs": [],
      "source": [
        "#-------- Building graphs from colored graphs -------\n",
        "\n",
        "def building_color_graphs_from_file(file_name, node_offset=-1, file_path=''):\n",
        "  \"\"\"\n",
        "  Load problem definition(graph) from COLOR file (e.g. *.col)\n",
        "\n",
        "  :param file_name: File name of the color file\n",
        "  :type file_name: str\n",
        "  :param node_offset: How much to offset node values contained in file\n",
        "  :type node_offset: int\n",
        "  :param file_path: path of the file named 'file_name'\n",
        "  :type file_path: str\n",
        "  :return: Graph\n",
        "  :return type: networkx.OrderedGraph\n",
        "  \"\"\"\n",
        "\n",
        "  fpath = os.path.join(file_path, file_name)\n",
        "  print(f'Building graph from contents of file: {fpath}')\n",
        "  with open(fpath, 'r') as f:\n",
        "    content = f.read().strip()\n",
        "\n",
        "  # Identify where problem definition starts.\n",
        "  # All lines prior to this are assumed to be miscellaneous descriptions of file contents\n",
        "  # which start with \"c \".\n",
        "\n",
        "  start_index = [idx for idx, line in enumerate(content.split('\\n')) if line.startswith('p')][0] #The index of the first line in content that starts with the letter 'p'\n",
        "  lines = content.split('\\n')[start_index:]  # skip comment line(s)\n",
        "  edges = [parse_lines(line, node_offset) for line in lines[1:] if len(line) > 0]\n",
        "\n",
        "  nx_temp = nx.from_edgelist(edges)\n",
        "\n",
        "  nx_graph = nx.Graph()\n",
        "  nx_graph.add_nodes_from(sorted(nx_temp.nodes()))\n",
        "  nx_graph.add_edges_from(nx_temp.edges)\n",
        "\n",
        "  return nx_graph\n",
        "\n"
      ]
    },
    {
      "cell_type": "code",
      "execution_count": null,
      "metadata": {
        "id": "SvKdzorEbWUc"
      },
      "outputs": [],
      "source": [
        "#--------- Graph Sage Class -----------\n",
        "\n",
        "class GraphSAGE(nn.Module):\n",
        "  \"\"\"\n",
        "  Basic GraphSAGE-based GNN class object. It constraucts model architecture upon initialization, defines a forward step to include revelent parameters,\n",
        "  in this case just drop out\n",
        "\n",
        "  \"\"\"\n",
        "\n",
        "  def __init__(self, graph, input_features, hidden_size, num_classes, dropout, aggregator_type):\n",
        "     \"\"\"\n",
        "     Initializes the GraphSAGE class. Establishes model architecture and hyperparameters ('dropout', 'num_classes', 'aggregator_type')\n",
        "     :param graph: Input graph object\n",
        "     :type graph: dgl.DGLHeteroGraph\n",
        "     :param input_features: Size of input layers/ number of nodes of input layer\n",
        "     :type input_features: int\n",
        "     :param hidden_size: Size of hidden layers\n",
        "     :type hidden_size: int\n",
        "     :param num_classes: Size of output layer\n",
        "     :type num_classes: int\n",
        "     :param dropout: Dropout fraction, between convolutional layers\n",
        "     :type dropout: float\n",
        "     :param aggregator_type: Aggregation type for each graphSAGE layer. In this example, all layers will use the same aggregation types\n",
        "     :type aggregator_type: str\n",
        "     \"\"\"\n",
        "\n",
        "     super(GraphSAGE, self).__init__()\n",
        "     self.graph = graph\n",
        "     self.num_classes = num_classes\n",
        "\n",
        "     self.layers = nn.ModuleList()\n",
        "\n",
        "     #input layer\n",
        "     self.layers.append(SAGEConv(input_features, hidden_size, aggregator_type, activation=F.relu))\n",
        "     self.dropout = nn.Dropout(p=dropout)\n",
        "\n",
        "     #output layer\n",
        "     self.layers.append(SAGEConv(hidden_size, num_classes, aggregator_type))\n",
        "     self.dropout = nn.Dropout(p=dropout)\n",
        "\n",
        "\n",
        "  def forward(self, features):\n",
        "    \"\"\"\n",
        "    Define forward step of the network. In this example, pass inputs through convolution, activation function relu nad dropout has been applied, then pass through second convolution\n",
        "\n",
        "    :param features: Input node representations\n",
        "    :type features: torch.tensor\n",
        "    :return: Final layer representation, pre-activation(i.e. class logits) Logits = logits refer to the raw, unnormalized output values produced by the last layer of a neural network\n",
        "             before applying an activation function like softmax or sigmoid.\n",
        "    :return type: torch.tensor\n",
        "    \"\"\"\n",
        "\n",
        "    h = features\n",
        "    for i, layer in enumerate(self.layers):\n",
        "      if i != 0:\n",
        "        h = self.dropout(h)\n",
        "      h = layer(self.graph, h)\n",
        "\n",
        "    return h\n",
        "\n",
        "\n",
        "\n"
      ]
    },
    {
      "cell_type": "code",
      "execution_count": null,
      "metadata": {
        "id": "FQFBpDZdbYtU"
      },
      "outputs": [],
      "source": [
        "# Define GNN GraphConv object\n",
        "class GNNConv(nn.Module):\n",
        "    \"\"\"\n",
        "    Basic GraphConv-based GNN class object. Constructs the model architecture upon\n",
        "    initialization. Defines a forward step to include relevant parameters - in this\n",
        "    case, just dropout.\n",
        "    \"\"\"\n",
        "\n",
        "    def __init__(self, g, in_feats, hidden_size, num_classes, dropout):\n",
        "        \"\"\"\n",
        "        Initialize the model object. Establishes model architecture and relevant hypers (`dropout`, `num_classes`, `agg_type`)\n",
        "\n",
        "        :param g: Input graph object\n",
        "        :type g: dgl.DGLHeteroGraph\n",
        "        :param in_feats: Size (number of nodes) of input layer\n",
        "        :type in_feats: int\n",
        "        :param hidden_size: Size of hidden layer\n",
        "        :type hidden_size: int\n",
        "        :param num_classes: Size of output layer (one node per class)\n",
        "        :type num_classes: int\n",
        "        :param dropout: Dropout fraction, between two convolutional layers\n",
        "        :type dropout: float\n",
        "        \"\"\"\n",
        "\n",
        "        super(GNNConv, self).__init__()\n",
        "        self.g = g\n",
        "        self.layers = nn.ModuleList()\n",
        "        # input layer\n",
        "        self.layers.append(GraphConv(in_feats, hidden_size, activation=F.relu))\n",
        "        # output layer\n",
        "        self.layers.append(GraphConv(hidden_size, num_classes))\n",
        "        self.dropout = nn.Dropout(p=dropout)\n",
        "\n",
        "    def forward(self, features):\n",
        "        \"\"\"\n",
        "        Define forward step of netowrk. In this example, pass inputs through convolution, apply relu\n",
        "        and dropout, then pass through second convolution.\n",
        "\n",
        "        :param features: Input node representations\n",
        "        :type features: torch.tensor\n",
        "        :return: Final layer representation, pre-activation (i.e. class logits)\n",
        "        :rtype: torch.tensor\n",
        "        \"\"\"\n",
        "\n",
        "        h = features\n",
        "        for i, layer in enumerate(self.layers):\n",
        "            if i != 0:\n",
        "                h = self.dropout(h)\n",
        "            h = layer(self.g, h)\n",
        "        return h"
      ]
    },
    {
      "cell_type": "code",
      "execution_count": null,
      "metadata": {
        "id": "SvbZ4WDCbbi8"
      },
      "outputs": [],
      "source": [
        "#--------------- Load GNN object, optimizer, and initial embedding layer -------\n",
        "\n",
        "def get_gnn(graph, num_nodes, gnn_hyperparameters, opt_parameters, torch_device, torch_dtype):\n",
        "  \"\"\"\n",
        "  Helper function to load in GNN object, optimizer, and initial embedding layer\n",
        "\n",
        "  :param num_nodes: Number of nodes in the graph\n",
        "  :type num_nodes: int\n",
        "  :param gnn_hyperparameters: Hyperparameters to provide to GNN constructor\n",
        "  :type gnn_hyperparameters: dict\n",
        "  :param opt_parameters: Hyperparameters to provide to optimizer constructor\n",
        "  :type opt_parameters: dict\n",
        "  :param torch_device: Compute device(GUP or CPU) to map computations\n",
        "  :type torch_device: str\n",
        "  :param torch_dtype: Pytorch datatype to use for matrix\n",
        "  :type torch_dtype: str\n",
        "  :return: Initialized GNN instance, embedding layer, initialized optimizer instance\n",
        "  :return type: GNN_SAGE, torch.nn.Emdedding, torch.optim.AdamW\n",
        "  \"\"\"\n",
        "\n",
        "  try:\n",
        "    print(f'Function get_gnn(): Setting seed to {gnn_hyperparameters}[\"seed\"]')\n",
        "    set_seed(gnn_hyperparameters['seed'])\n",
        "  except KeyError:\n",
        "     print('!! Function get_gnn(): Seed not specified in gnn_hypers object. Defaulting to 0 !!')\n",
        "     set_seed(0)\n",
        "\n",
        "  model = gnn_hyperparameters['model']\n",
        "  dim_embedding = gnn_hyperparameters['dim_embedding']\n",
        "  hidden_dim = gnn_hyperparameters['hidden_dim']\n",
        "  dropout = gnn_hyperparameters['dropout']\n",
        "  number_classes = gnn_hyperparameters['number_classes']\n",
        "  aggregator_type = gnn_hyperparameters['layer_agg_type']\n",
        "\n",
        "\n",
        "  print(f'Building {model} model...')\n",
        "  if model == 'GraphSAGE':\n",
        "      net = GraphSAGE(graph, dim_embedding, hidden_dim, number_classes, dropout, aggregator_type )\n",
        "  elif model == \"GraphConv\":\n",
        "      net = GNNConv(graph, dim_embedding, hidden_dim, number_classes, dropout)\n",
        "  else:\n",
        "      raise ValueError(\"Invalid model type input! Model type has to be in one of these two options: ['GraphConv', 'GraphSAGE']\")\n",
        "  net = net.type(torch_dtype).to(torch_device)\n",
        "  embed = nn.Embedding(num_nodes, dim_embedding).type(torch_dtype).to(torch_device)\n",
        "\n",
        "\n",
        "  #Setting up Adam optimizer\n",
        "  params = chain(net.parameters(), embed.parameters())\n",
        "  print('Building ADAM-W optimizer...')\n",
        "  optimizer = torch.optim.AdamW(params, **opt_parameters, weight_decay=1e-2)\n",
        "\n",
        "  return net, embed, optimizer"
      ]
    },
    {
      "cell_type": "code",
      "execution_count": null,
      "metadata": {
        "id": "aZRx-UH1beTU"
      },
      "outputs": [],
      "source": [
        "#---- Calculating loss function -----\n",
        "def loss_func_mod(probs, adj_tensor, lambda_factor):\n",
        "  \"\"\"\n",
        "  Function to compute cost value based on soft assignments (Probabilities)\n",
        "\n",
        "  :param probs: Probability vector, of each node belonging to each class\n",
        "  :type probs: torch.tensor\n",
        "  :param adj_tensor: Adjacency matrix, containing internode weights\n",
        "  :type adj_tensor: torch.tensor\n",
        "  :return: loss, given the current soft assignments (probabilities)\n",
        "  :return type: float\n",
        "  \"\"\"\n",
        "  # probs.T is the transpose of probs\n",
        "  # (probs @ probs.t) means matrix multiplication in PyTorch. This result will give a matrix where each entry describes the similarity or interaction between pairs of rows from probs\n",
        "  # This operation can be thought of as weighting the node interactions based on their connectivity in the graph\n",
        "  #  Divide by 2 to adjust for symmetry about the diagonal (In an undirected graph, edges between nodes are connected twice)\n",
        "\n",
        "  # Calculating the similarity (dot product) between pairs of node vectors (or probability vectors)\n",
        "  # Weighting these similarities based on the adjacency matrix (so only connected nodes matter)\n",
        "  # Summing up these weighted similarities and dividing by 2 to account for symmetric connections\n",
        "\n",
        "  lambda_factor = 0.001\n",
        "  loss = torch.mul(adj_tensor, (probs @ probs.T)).sum()/2\n",
        "\n",
        "\n",
        "  return loss"
      ]
    },
    {
      "cell_type": "code",
      "execution_count": null,
      "metadata": {
        "id": "K_HokZKebheT"
      },
      "outputs": [],
      "source": [
        "#-------- custom loss according to Q matrix(given colors) -------\n",
        "def loss_func_color_hard(coloring, nx_graph):\n",
        "    \"\"\"\n",
        "    Function to compute cost value based on color vector (0, 2, 1, 4, 1, ...)\n",
        "\n",
        "    :param coloring: Vector of class assignments (colors)\n",
        "    :type coloring: torch.tensor\n",
        "    :param nx_graph: Graph to evaluate classifications on\n",
        "    :type nx_graph: networkx.OrderedGraph\n",
        "    :return: Cost of provided class assignments\n",
        "    :rtype: torch.tensor\n",
        "    \"\"\"\n",
        "\n",
        "    cost = 0\n",
        "    for (u, v) in nx_graph.edges:\n",
        "        cost += 1*(coloring[u] == coloring[v])*(u != v)\n",
        "\n",
        "    return cost"
      ]
    },
    {
      "cell_type": "code",
      "execution_count": null,
      "metadata": {
        "id": "EHJczDUHbkUc"
      },
      "outputs": [],
      "source": [
        "#--------- training --------\n",
        "\n",
        "def run_gnn_training(nx_graph, graph_dgl, adj_mat, net, embed, optimizer, number_epochs=int(1e5), patience=1000, tolerance=1e-4, seed=1 ):\n",
        "  \"\"\"\n",
        "  Function to run model training for given graph, GNN, optimizer, and set of hypers.\n",
        "  Includes basic early stopping criteria. Prints regular updates on progress as well as\n",
        "  final decision.\n",
        "\n",
        "  :param nx_graph: Graph instance to solve\n",
        "  :param graph_dgl: Graph instance to solve\n",
        "  :param adj_mat: Adjacency matrix for provided graph\n",
        "  :type adj_mat: torch.tensor\n",
        "  :param net: GNN instance to train\n",
        "  :type net: GNN_Conv or GNN_SAGE\n",
        "  :param embed: Initial embedding layer\n",
        "  :type embed: torch.nn.Embedding\n",
        "\n",
        "  In the context of a Graph Neural Network (GNN), an initial embedding layer refers to the layer where the features of each node (or edge) in the graph are first transformed\n",
        "  or encoded into a high-dimensional vector space, before passing through the GNN layers for further processing.\n",
        "\n",
        "  :param optimizer: Optimizer instance used to fit model parameters\n",
        "  :type optimizer: torch.optim.AdamW\n",
        "  :param number_epochs: Limit on number of training epochs to run\n",
        "  :type number_epochs: int\n",
        "  :param patience: Number of epochs to wait before triggering early stopping\n",
        "  :type patience: int\n",
        "  :param tolerance: Minimum change in cost to be considered non-converged (i.e.\n",
        "      any change less than tolerance will add to early stopping count)\n",
        "  :type tolerance: float\n",
        "\n",
        "  :return: Final model probabilities, best color vector found during training, best loss found during training,\n",
        "  final color vector of training, final loss of training, number of epochs used in training\n",
        "  :rtype: torch.tensor, torch.tensor, torch.tensor, torch.tensor, torch.tensor, int\n",
        "  \"\"\"\n",
        "\n",
        "  print(f'Function run_gnn_training(): Setting seed to {seed}')\n",
        "  set_seed(seed)\n",
        "\n",
        "  inputs = embed.weight\n",
        "\n",
        "  # Tracking\n",
        "  best_cost = torch.tensor(float('Inf'))\n",
        "  best_loss = torch.tensor(float('Inf'))\n",
        "  best_coloring = None\n",
        "\n",
        "  # Early stopping to allow GNN to train to near-completion\n",
        "  prev_loss = 1 #Initialize loss value(arbitrary)\n",
        "  count = 0 #track number of times early stopping is triggered\n",
        "\n",
        "  # Training\n",
        "\n",
        "  for epoch in range(number_epochs):\n",
        "\n",
        "    # get soft probability assignments/ output values produced by last layer\n",
        "    logits = net(inputs)\n",
        "\n",
        "    # apply softmax normalization\n",
        "    probs = F.softmax(logits, dim=1)\n",
        "\n",
        "    # get cost value with POTTS cost function\n",
        "    initial_lambda = 0.01\n",
        "    lambda_factor = initial_lambda * (1 - epoch / number_epochs)\n",
        "    loss = loss_func_mod(probs, adj_mat, lambda_factor)\n",
        "\n",
        "    # get cost based on current hard class assignments(coloring)\n",
        "    # update cost if application\n",
        "    coloring = torch.argmax(probs, dim=1)\n",
        "    cost_hard = loss_func_color_hard(coloring, nx_graph)\n",
        "\n",
        "    if cost_hard < best_cost:\n",
        "      best_loss = loss\n",
        "      best_cost = cost_hard\n",
        "      best_coloring = coloring\n",
        "\n",
        "    #Early stopping check\n",
        "    # If loss increases or change in loss is too small, trigger\n",
        "    if (abs(loss - prev_loss) <= tolerance) | ((loss - prev_loss) > 0):\n",
        "      count += 1\n",
        "    else:\n",
        "      count = 0\n",
        "\n",
        "    # update loss tracking\n",
        "    prev_loss = loss\n",
        "\n",
        "    if count >= patience:\n",
        "      print(f'Stopping early on epoch {epoch}. Patience count: {count}')\n",
        "      break\n",
        "\n",
        "    # run optimizer with backpropagation\n",
        "    optimizer.zero_grad() #clear gradient for step\n",
        "    loss.backward() #calculate gradient through compute graph\n",
        "    optimizer.step() #take step, update weights\n",
        "\n",
        "    #tracking: print intermediate loss at regular interval\n",
        "    if epoch % 1000 == 0:\n",
        "      print('Epoch %d | Soft Loss: %.5f' % (epoch, loss.item()))\n",
        "      print('Epoch %d | Discrete Cost: %.5f' % (epoch, cost_hard.item()))\n",
        "\n",
        "  #Print final loss\n",
        "  print('Epoch %d | Final loss: %.5f' % (epoch, loss.item()))\n",
        "  print('Epoch %d | Lowest discrete cost: %.5f' % (epoch, best_cost))\n",
        "\n",
        "  # Final Coloring\n",
        "  final_loss = loss\n",
        "  final_coloring = torch.argmax(probs, 1)\n",
        "  print(f'Final coloring: {final_coloring}, soft loss: {final_loss}')\n",
        "\n",
        "  return probs, best_coloring, best_loss, final_coloring, final_loss, epoch"
      ]
    },
    {
      "cell_type": "code",
      "execution_count": null,
      "metadata": {
        "colab": {
          "base_uri": "https://localhost:8080/"
        },
        "id": "QDweikl2bnE0",
        "outputId": "65e68207-724d-4eae-fd84-a01decc198ca"
      },
      "outputs": [
        {
          "output_type": "stream",
          "name": "stdout",
          "text": [
            "Will use device: cuda, torch dtype: torch.float32\n"
          ]
        }
      ],
      "source": [
        "# fix seed to ensure consistent results\n",
        "SEED_VALUE = 0\n",
        "random.seed(SEED_VALUE)        # seed python RNG\n",
        "np.random.seed(SEED_VALUE)     # seed global NumPy RNG\n",
        "torch.manual_seed(SEED_VALUE)  # seed torch RNG\n",
        "\n",
        "# Set GPU/CPU\n",
        "TORCH_DEVICE = torch.device('cuda' if torch.cuda.is_available() else 'cpu')\n",
        "TORCH_DTYPE = torch.float32\n",
        "print(f'Will use device: {TORCH_DEVICE}, torch dtype: {TORCH_DTYPE}')"
      ]
    },
    {
      "cell_type": "code",
      "execution_count": null,
      "metadata": {
        "id": "6BB-aZjKbqD0"
      },
      "outputs": [],
      "source": [
        "# create directory for storing input data\n",
        "\n",
        "input_data_path = './data/input/COLOR/instances'\n",
        "if not os.path.exists(input_data_path):\n",
        "    os.makedirs(input_data_path)"
      ]
    },
    {
      "cell_type": "code",
      "execution_count": null,
      "metadata": {
        "colab": {
          "base_uri": "https://localhost:8080/"
        },
        "id": "QvwxzxSXbsyk",
        "outputId": "5351c9f9-365c-434b-f0a5-89a1a956be94"
      },
      "outputs": [
        {
          "output_type": "stream",
          "name": "stdout",
          "text": [
            "--2025-04-26 19:19:56--  https://mat.tepper.cmu.edu/COLOR/instances/instances.tar\n",
            "Resolving mat.tepper.cmu.edu (mat.tepper.cmu.edu)... 128.2.25.179\n",
            "Connecting to mat.tepper.cmu.edu (mat.tepper.cmu.edu)|128.2.25.179|:443... connected.\n",
            "HTTP request sent, awaiting response... 200 OK\n",
            "Length: 3907584 (3.7M) [application/x-tar]\n",
            "Saving to: ‘./data/input/COLOR/instances.tar’\n",
            "\n",
            "instances.tar       100%[===================>]   3.73M  7.18MB/s    in 0.5s    \n",
            "\n",
            "2025-04-26 19:19:57 (7.18 MB/s) - ‘./data/input/COLOR/instances.tar’ saved [3907584/3907584]\n",
            "\n"
          ]
        }
      ],
      "source": [
        "!wget https://mat.tepper.cmu.edu/COLOR/instances/instances.tar -P ./data/input/COLOR/"
      ]
    },
    {
      "cell_type": "code",
      "execution_count": null,
      "metadata": {
        "colab": {
          "base_uri": "https://localhost:8080/"
        },
        "id": "I5lO_9mTbwBV",
        "outputId": "b45fc017-2aff-4e2d-ab5f-9ff105fb60de"
      },
      "outputs": [
        {
          "output_type": "stream",
          "name": "stdout",
          "text": [
            "DSJC1000.1.col.b\n",
            "DSJC1000.5.col.b\n",
            "DSJC1000.9.col.b\n",
            "DSJC125.1.col.b\n",
            "DSJC125.5.col.b\n",
            "DSJC125.9.col.b\n",
            "DSJC250.1.col.b\n",
            "DSJC250.5.col.b\n",
            "DSJC250.9.col.b\n",
            "DSJC500.1.col.b\n",
            "DSJC500.5.col.b\n",
            "DSJC500.9.col.b\n",
            "DSJR500.1.col.b\n",
            "DSJR500.1c.col.b\n",
            "DSJR500.5.col.b\n",
            "flat1000_50_0.col.b\n",
            "flat1000_60_0.col.b\n",
            "flat1000_76_0.col.b\n",
            "flat300_20_0.col.b\n",
            "flat300_26_0.col.b\n",
            "flat300_28_0.col.b\n",
            "anna.col\n",
            "david.col\n",
            "fpsol2.i.1.col\n",
            "fpsol2.i.2.col\n",
            "fpsol2.i.3.col\n",
            "games120.col\n",
            "homer.col\n",
            "huck.col\n",
            "inithx.i.1.col\n",
            "inithx.i.2.col\n",
            "inithx.i.3.col\n",
            "jean.col\n",
            "le450_15a.col\n",
            "le450_15b.col\n",
            "le450_15c.col\n",
            "le450_15d.col\n",
            "le450_25a.col\n",
            "le450_25b.col\n",
            "le450_25c.col\n",
            "le450_25d.col\n",
            "le450_5a.col\n",
            "le450_5b.col\n",
            "le450_5c.col\n",
            "le450_5d.col\n",
            "miles1000.col\n",
            "miles1500.col\n",
            "miles250.col\n",
            "miles500.col\n",
            "miles750.col\n",
            "mulsol.i.1.col\n",
            "mulsol.i.2.col\n",
            "mulsol.i.3.col\n",
            "mulsol.i.4.col\n",
            "mulsol.i.5.col\n",
            "myciel2.col\n",
            "myciel3.col\n",
            "myciel4.col\n",
            "myciel5.col\n",
            "myciel6.col\n",
            "myciel7.col\n",
            "queen10_10.col\n",
            "queen11_11.col\n",
            "queen12_12.col\n",
            "queen13_13.col\n",
            "queen14_14.col\n",
            "queen15_15.col\n",
            "queen16_16.col\n",
            "queen5_5.col\n",
            "queen6_6.col\n",
            "queen7_7.col\n",
            "queen8_12.col\n",
            "queen8_8.col\n",
            "queen9_9.col\n",
            "school1.col\n",
            "school1_nsh.col\n",
            "zeroin.i.1.col\n",
            "zeroin.i.2.col\n",
            "zeroin.i.3.col\n"
          ]
        }
      ],
      "source": [
        "!tar -xvf ./data/input/COLOR/instances.tar -C './data/input/COLOR/instances'"
      ]
    },
    {
      "cell_type": "code",
      "execution_count": null,
      "metadata": {
        "id": "9CwWbYAxb0DL"
      },
      "outputs": [],
      "source": [
        "\"\"\"\n",
        "Provided a default set of model hyperparameters. We can modify it\n",
        "\"\"\"\n",
        "\n",
        "problem_file = 'queen5_5.col'\n",
        "input_parent = './data/input/COLOR/instances'"
      ]
    },
    {
      "cell_type": "code",
      "execution_count": null,
      "metadata": {
        "colab": {
          "base_uri": "https://localhost:8080/"
        },
        "id": "YHedpk2Cb26U",
        "outputId": "87e712b1-750f-4c64-e77b-fb949940a1b0"
      },
      "outputs": [
        {
          "output_type": "stream",
          "name": "stdout",
          "text": [
            "{'model': 'GraphSAGE', 'dim_embedding': 77, 'dropout': 0.3784, 'learning_rate': 0.02988, 'hidden_dim': 32, 'seed': 0}\n",
            "{'model': 'GraphSAGE', 'dim_embedding': 77, 'dropout': 0.3784, 'learning_rate': 0.02988, 'hidden_dim': 32, 'seed': 0, 'tolerance': 0.001, 'number_epochs': 100000, 'patience': 500, 'graph_file': 'queen5_5.col', 'layer_agg_type': 'mean', 'number_classes': 5}\n"
          ]
        }
      ],
      "source": [
        "# Sample hyperparameters\n",
        "if TORCH_DEVICE.type == 'cpu':  # example with CPU\n",
        "    hypers = {\n",
        "        'model': 'GraphConv',   # set either with 'GraphConv' or 'GraphSAGE'. It cannot take other input\n",
        "        'dim_embedding': 64,\n",
        "        'dropout': 0.1,\n",
        "        'learning_rate': 0.0001,\n",
        "        'hidden_dim': 64,\n",
        "        'seed': SEED_VALUE\n",
        "    }\n",
        "else:                           # example with GPU\n",
        "    hypers = {\n",
        "        'model': 'GraphSAGE',\n",
        "        'dim_embedding': 77,\n",
        "        'dropout': 0.3784,\n",
        "        'learning_rate': 0.02988,\n",
        "        'hidden_dim': 32,\n",
        "        'seed': SEED_VALUE\n",
        "    }\n",
        "\n",
        "print(hypers)\n",
        "# Default meta parameters\n",
        "solver_hypers = {\n",
        "    'tolerance': 1e-3,           # Loss must change by more than tolerance, or add towards patience count\n",
        "    'number_epochs': int(1e5),   # Max number training steps\n",
        "    'patience': 500,             # Number early stopping triggers before breaking loop\n",
        "    'graph_file': problem_file,  # Which problem is being solved\n",
        "    'layer_agg_type': 'mean',    # How aggregate neighbors sampled within graphSAGE\n",
        "    'number_classes': chromatic_numbers[problem_file]\n",
        "}\n",
        "\n",
        "# Combine into a single set\n",
        "hypers.update(solver_hypers)\n",
        "print(hypers)"
      ]
    },
    {
      "cell_type": "code",
      "execution_count": null,
      "metadata": {
        "colab": {
          "base_uri": "https://localhost:8080/"
        },
        "id": "JBWLA4kwb9f8",
        "outputId": "6b2dcb0a-bf2e-4e84-bf81-d170e6577a43"
      },
      "outputs": [
        {
          "output_type": "stream",
          "name": "stdout",
          "text": [
            "./data/input/COLOR/instances/queen5_5.col\n",
            "Building graph from contents of file: ./data/input/COLOR/instances/queen5_5.col\n"
          ]
        }
      ],
      "source": [
        "# Establish full input location\n",
        "input_fpath = os.path.join(input_parent, problem_file)\n",
        "print(input_fpath)\n",
        "\n",
        "# Load in graph\n",
        "nx_graph = building_color_graphs_from_file(input_fpath, node_offset=-1, file_path='')\n",
        "\n",
        "# Get DGL graph from networkx graph\n",
        "# Ensure relevant objects are placed onto proper torch device\n",
        "dgl_graph = dgl.from_networkx(nx_graph)\n",
        "dgl_graph = dgl_graph.to(TORCH_DEVICE)\n"
      ]
    },
    {
      "cell_type": "code",
      "execution_count": null,
      "metadata": {
        "colab": {
          "base_uri": "https://localhost:8080/"
        },
        "id": "40lcsTkycArb",
        "outputId": "11af7f21-823d-44ce-ba56-31404882b5b4"
      },
      "outputs": [
        {
          "output_type": "stream",
          "name": "stdout",
          "text": [
            "{'lr': 0.02988}\n",
            "Function get_gnn(): Setting seed to {'model': 'GraphSAGE', 'dim_embedding': 77, 'dropout': 0.3784, 'learning_rate': 0.02988, 'hidden_dim': 32, 'seed': 0, 'tolerance': 0.001, 'number_epochs': 100000, 'patience': 500, 'graph_file': 'queen5_5.col', 'layer_agg_type': 'mean', 'number_classes': 5}[\"seed\"]\n",
            "Building GraphSAGE model...\n",
            "Building ADAM-W optimizer...\n"
          ]
        }
      ],
      "source": [
        "# Retrieve known optimizer hypers\n",
        "opt_hypers = {\n",
        "    'lr': hypers.get('learning_rate', None)\n",
        "}\n",
        "print(opt_hypers)\n",
        "\n",
        "# Get adjacency matrix for use in calculations\n",
        "adj_ = get_adjacency_matrix(nx_graph, TORCH_DEVICE, TORCH_DTYPE)\n",
        "#print(adj_)\n",
        "\n",
        "net, embed, optimizer = get_gnn(dgl_graph, nx_graph.number_of_nodes(), hypers, opt_hypers, TORCH_DEVICE, TORCH_DTYPE)"
      ]
    },
    {
      "cell_type": "code",
      "execution_count": null,
      "metadata": {
        "colab": {
          "base_uri": "https://localhost:8080/"
        },
        "id": "3O37QdiwcE_U",
        "outputId": "09adddde-90b6-4e28-88a3-4ba77910c2d7"
      },
      "outputs": [
        {
          "output_type": "stream",
          "name": "stdout",
          "text": [
            "Function run_gnn_training(): Setting seed to 0\n",
            "Epoch 0 | Soft Loss: 82.59258\n",
            "Epoch 0 | Discrete Cost: 93.00000\n",
            "Epoch 1000 | Soft Loss: 8.00001\n",
            "Epoch 1000 | Discrete Cost: 8.00000\n",
            "Epoch 2000 | Soft Loss: 8.99941\n",
            "Epoch 2000 | Discrete Cost: 9.00000\n",
            "Epoch 3000 | Soft Loss: 7.00000\n",
            "Epoch 3000 | Discrete Cost: 7.00000\n",
            "Epoch 4000 | Soft Loss: 6.00000\n",
            "Epoch 4000 | Discrete Cost: 6.00000\n",
            "Epoch 5000 | Soft Loss: 6.00000\n",
            "Epoch 5000 | Discrete Cost: 6.00000\n",
            "Epoch 6000 | Soft Loss: 6.00000\n",
            "Epoch 6000 | Discrete Cost: 6.00000\n",
            "Epoch 7000 | Soft Loss: 6.00000\n",
            "Epoch 7000 | Discrete Cost: 6.00000\n",
            "Epoch 8000 | Soft Loss: 6.00000\n",
            "Epoch 8000 | Discrete Cost: 6.00000\n",
            "Epoch 9000 | Soft Loss: 4.00000\n",
            "Epoch 9000 | Discrete Cost: 4.00000\n",
            "Epoch 10000 | Soft Loss: 4.00000\n",
            "Epoch 10000 | Discrete Cost: 4.00000\n",
            "Epoch 11000 | Soft Loss: 4.00000\n",
            "Epoch 11000 | Discrete Cost: 4.00000\n",
            "Epoch 12000 | Soft Loss: 4.00000\n",
            "Epoch 12000 | Discrete Cost: 4.00000\n",
            "Epoch 13000 | Soft Loss: 6.00000\n",
            "Epoch 13000 | Discrete Cost: 6.00000\n",
            "Epoch 14000 | Soft Loss: 4.00000\n",
            "Epoch 14000 | Discrete Cost: 4.00000\n",
            "Epoch 15000 | Soft Loss: 4.99989\n",
            "Epoch 15000 | Discrete Cost: 5.00000\n",
            "Epoch 16000 | Soft Loss: 9.00000\n",
            "Epoch 16000 | Discrete Cost: 9.00000\n",
            "Epoch 17000 | Soft Loss: 4.00000\n",
            "Epoch 17000 | Discrete Cost: 4.00000\n",
            "Epoch 18000 | Soft Loss: 4.00000\n",
            "Epoch 18000 | Discrete Cost: 4.00000\n",
            "Epoch 19000 | Soft Loss: 3.00000\n",
            "Epoch 19000 | Discrete Cost: 3.00000\n",
            "Epoch 20000 | Soft Loss: 0.00000\n",
            "Epoch 20000 | Discrete Cost: 0.00000\n",
            "Epoch 21000 | Soft Loss: 0.00000\n",
            "Epoch 21000 | Discrete Cost: 0.00000\n",
            "Epoch 22000 | Soft Loss: 0.00000\n",
            "Epoch 22000 | Discrete Cost: 0.00000\n",
            "Epoch 23000 | Soft Loss: 0.00000\n",
            "Epoch 23000 | Discrete Cost: 0.00000\n",
            "Epoch 24000 | Soft Loss: 5.00000\n",
            "Epoch 24000 | Discrete Cost: 5.00000\n",
            "Epoch 25000 | Soft Loss: 0.00000\n",
            "Epoch 25000 | Discrete Cost: 0.00000\n",
            "Epoch 26000 | Soft Loss: 0.00000\n",
            "Epoch 26000 | Discrete Cost: 0.00000\n",
            "Epoch 27000 | Soft Loss: 0.00000\n",
            "Epoch 27000 | Discrete Cost: 0.00000\n",
            "Epoch 28000 | Soft Loss: 0.00000\n",
            "Epoch 28000 | Discrete Cost: 0.00000\n",
            "Epoch 29000 | Soft Loss: 0.00000\n",
            "Epoch 29000 | Discrete Cost: 0.00000\n",
            "Epoch 30000 | Soft Loss: 0.00000\n",
            "Epoch 30000 | Discrete Cost: 0.00000\n",
            "Epoch 31000 | Soft Loss: 0.09207\n",
            "Epoch 31000 | Discrete Cost: 0.00000\n",
            "Epoch 32000 | Soft Loss: 0.00000\n",
            "Epoch 32000 | Discrete Cost: 0.00000\n",
            "Epoch 33000 | Soft Loss: 0.00000\n",
            "Epoch 33000 | Discrete Cost: 0.00000\n",
            "Epoch 34000 | Soft Loss: 0.00000\n",
            "Epoch 34000 | Discrete Cost: 0.00000\n",
            "Epoch 35000 | Soft Loss: 0.00000\n",
            "Epoch 35000 | Discrete Cost: 0.00000\n",
            "Stopping early on epoch 35225. Patience count: 500\n",
            "Epoch 35225 | Final loss: 0.00000\n",
            "Epoch 35225 | Lowest discrete cost: 0.00000\n",
            "Final coloring: tensor([4, 0, 2, 3, 1, 3, 1, 4, 0, 2, 0, 2, 3, 1, 4, 1, 4, 0, 2, 3, 2, 3, 1, 4,\n",
            "        0], device='cuda:0'), soft loss: 0.0\n",
            "Chromatic Number: 5\n",
            "GNN runtime: 389.6296s\n"
          ]
        }
      ],
      "source": [
        "t_start = time()\n",
        "\n",
        "probs, best_coloring, best_loss, final_coloring, final_loss, epoch_num = run_gnn_training(\n",
        "    nx_graph, dgl_graph, adj_, net, embed, optimizer, hypers['number_epochs'],\n",
        "    hypers['patience'], hypers['tolerance'], seed=SEED_VALUE)\n",
        "\n",
        "a_list = final_coloring.tolist()\n",
        "chromatic_num = max(a_list)+1\n",
        "print(\"Chromatic Number:\", chromatic_num )\n",
        "\n",
        "\n",
        "runtime_gnn = round(time() - t_start, 4)\n",
        "\n",
        "# report results\n",
        "print(f'GNN runtime: {runtime_gnn}s')\n"
      ]
    },
    {
      "cell_type": "code",
      "source": [
        "# check for color violations\n",
        "best_cost_hard = loss_func_color_hard(best_coloring, nx_graph)\n",
        "\n",
        "print(f'Best (hard) cost of coloring (n_class={hypers[\"number_classes\"]}): {best_cost_hard}')"
      ],
      "metadata": {
        "colab": {
          "base_uri": "https://localhost:8080/"
        },
        "id": "hfRmfhD1H8es",
        "outputId": "80771dd8-ecae-41e2-e17c-2f9eda36a403"
      },
      "execution_count": null,
      "outputs": [
        {
          "output_type": "stream",
          "name": "stdout",
          "text": [
            "Best (hard) cost of coloring (n_class=5): 0\n"
          ]
        }
      ]
    }
  ],
  "metadata": {
    "colab": {
      "provenance": [],
      "gpuType": "T4",
      "include_colab_link": true
    },
    "kernelspec": {
      "display_name": "Python 3",
      "name": "python3"
    },
    "language_info": {
      "name": "python"
    },
    "accelerator": "GPU"
  },
  "nbformat": 4,
  "nbformat_minor": 0
}