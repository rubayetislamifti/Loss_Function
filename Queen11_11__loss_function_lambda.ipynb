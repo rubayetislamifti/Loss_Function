{
  "cells": [
    {
      "cell_type": "markdown",
      "metadata": {
        "id": "view-in-github",
        "colab_type": "text"
      },
      "source": [
        "<a href=\"https://colab.research.google.com/github/rubayetislamifti/Loss_Function/blob/main/Queen11_11__loss_function_lambda.ipynb\" target=\"_parent\"><img src=\"https://colab.research.google.com/assets/colab-badge.svg\" alt=\"Open In Colab\"/></a>"
      ]
    },
    {
      "cell_type": "code",
      "execution_count": null,
      "metadata": {
        "colab": {
          "base_uri": "https://localhost:8080/"
        },
        "id": "lSroTjL9WvW7",
        "outputId": "ec276513-a8bd-4870-c51b-02b97bbdb270"
      },
      "outputs": [
        {
          "output_type": "stream",
          "name": "stdout",
          "text": [
            "2.3.0+cu121\n"
          ]
        }
      ],
      "source": [
        "import torch\n",
        "print(torch.__version__)"
      ]
    },
    {
      "cell_type": "code",
      "execution_count": null,
      "metadata": {
        "colab": {
          "base_uri": "https://localhost:8080/"
        },
        "id": "MTgI-BTYXDYd",
        "outputId": "08822b02-7c26-4b78-c9ae-c8215dc73c1f"
      },
      "outputs": [
        {
          "name": "stdout",
          "output_type": "stream",
          "text": [
            "Found existing installation: torch 2.5.1+cu121\n",
            "Uninstalling torch-2.5.1+cu121:\n",
            "  Successfully uninstalled torch-2.5.1+cu121\n"
          ]
        }
      ],
      "source": [
        "!pip uninstall torch -y"
      ]
    },
    {
      "cell_type": "code",
      "execution_count": null,
      "metadata": {
        "colab": {
          "base_uri": "https://localhost:8080/"
        },
        "id": "bNsk1YZWXQ0U",
        "outputId": "f3c2b772-f11a-43da-db27-446d1c14cecd"
      },
      "outputs": [
        {
          "name": "stdout",
          "output_type": "stream",
          "text": [
            "Requirement already satisfied: torch==2.3.0 in /usr/local/lib/python3.10/dist-packages (2.3.0)\n",
            "Requirement already satisfied: filelock in /usr/local/lib/python3.10/dist-packages (from torch==2.3.0) (3.16.1)\n",
            "Requirement already satisfied: typing-extensions>=4.8.0 in /usr/local/lib/python3.10/dist-packages (from torch==2.3.0) (4.12.2)\n",
            "Requirement already satisfied: sympy in /usr/local/lib/python3.10/dist-packages (from torch==2.3.0) (1.13.1)\n",
            "Requirement already satisfied: networkx in /usr/local/lib/python3.10/dist-packages (from torch==2.3.0) (3.4.2)\n",
            "Requirement already satisfied: jinja2 in /usr/local/lib/python3.10/dist-packages (from torch==2.3.0) (3.1.4)\n",
            "Requirement already satisfied: fsspec in /usr/local/lib/python3.10/dist-packages (from torch==2.3.0) (2024.10.0)\n",
            "Requirement already satisfied: nvidia-cuda-nvrtc-cu12==12.1.105 in /usr/local/lib/python3.10/dist-packages (from torch==2.3.0) (12.1.105)\n",
            "Requirement already satisfied: nvidia-cuda-runtime-cu12==12.1.105 in /usr/local/lib/python3.10/dist-packages (from torch==2.3.0) (12.1.105)\n",
            "Requirement already satisfied: nvidia-cuda-cupti-cu12==12.1.105 in /usr/local/lib/python3.10/dist-packages (from torch==2.3.0) (12.1.105)\n",
            "Requirement already satisfied: nvidia-cudnn-cu12==8.9.2.26 in /usr/local/lib/python3.10/dist-packages (from torch==2.3.0) (8.9.2.26)\n",
            "Requirement already satisfied: nvidia-cublas-cu12==12.1.3.1 in /usr/local/lib/python3.10/dist-packages (from torch==2.3.0) (12.1.3.1)\n",
            "Requirement already satisfied: nvidia-cufft-cu12==11.0.2.54 in /usr/local/lib/python3.10/dist-packages (from torch==2.3.0) (11.0.2.54)\n",
            "Requirement already satisfied: nvidia-curand-cu12==10.3.2.106 in /usr/local/lib/python3.10/dist-packages (from torch==2.3.0) (10.3.2.106)\n",
            "Requirement already satisfied: nvidia-cusolver-cu12==11.4.5.107 in /usr/local/lib/python3.10/dist-packages (from torch==2.3.0) (11.4.5.107)\n",
            "Requirement already satisfied: nvidia-cusparse-cu12==12.1.0.106 in /usr/local/lib/python3.10/dist-packages (from torch==2.3.0) (12.1.0.106)\n",
            "Requirement already satisfied: nvidia-nccl-cu12==2.20.5 in /usr/local/lib/python3.10/dist-packages (from torch==2.3.0) (2.20.5)\n",
            "Requirement already satisfied: nvidia-nvtx-cu12==12.1.105 in /usr/local/lib/python3.10/dist-packages (from torch==2.3.0) (12.1.105)\n",
            "Requirement already satisfied: triton==2.3.0 in /usr/local/lib/python3.10/dist-packages (from torch==2.3.0) (2.3.0)\n",
            "Requirement already satisfied: nvidia-nvjitlink-cu12 in /usr/local/lib/python3.10/dist-packages (from nvidia-cusolver-cu12==11.4.5.107->torch==2.3.0) (12.6.85)\n",
            "Requirement already satisfied: MarkupSafe>=2.0 in /usr/local/lib/python3.10/dist-packages (from jinja2->torch==2.3.0) (3.0.2)\n",
            "Requirement already satisfied: mpmath<1.4,>=1.1.0 in /usr/local/lib/python3.10/dist-packages (from sympy->torch==2.3.0) (1.3.0)\n"
          ]
        }
      ],
      "source": [
        "!pip install torch==2.3.0"
      ]
    },
    {
      "cell_type": "code",
      "execution_count": null,
      "metadata": {
        "colab": {
          "base_uri": "https://localhost:8080/"
        },
        "id": "n8jK2tgga3u1",
        "outputId": "00c7d703-3216-494e-f302-1aca6598075d"
      },
      "outputs": [
        {
          "output_type": "stream",
          "name": "stdout",
          "text": [
            "Looking in links: https://data.dgl.ai/wheels/torch-2.3/cu121/repo.html\n",
            "Requirement already satisfied: dgl in /usr/local/lib/python3.10/dist-packages (2.4.0+cu121)\n",
            "Requirement already satisfied: networkx>=2.1 in /usr/local/lib/python3.10/dist-packages (from dgl) (3.4.2)\n",
            "Requirement already satisfied: numpy>=1.14.0 in /usr/local/lib/python3.10/dist-packages (from dgl) (1.26.4)\n",
            "Requirement already satisfied: packaging in /usr/local/lib/python3.10/dist-packages (from dgl) (24.2)\n",
            "Requirement already satisfied: pandas in /usr/local/lib/python3.10/dist-packages (from dgl) (2.2.2)\n",
            "Requirement already satisfied: psutil>=5.8.0 in /usr/local/lib/python3.10/dist-packages (from dgl) (5.9.5)\n",
            "Requirement already satisfied: pydantic>=2.0 in /usr/local/lib/python3.10/dist-packages (from dgl) (2.10.3)\n",
            "Requirement already satisfied: pyyaml in /usr/local/lib/python3.10/dist-packages (from dgl) (6.0.2)\n",
            "Requirement already satisfied: requests>=2.19.0 in /usr/local/lib/python3.10/dist-packages (from dgl) (2.32.3)\n",
            "Requirement already satisfied: scipy>=1.1.0 in /usr/local/lib/python3.10/dist-packages (from dgl) (1.13.1)\n",
            "Requirement already satisfied: tqdm in /usr/local/lib/python3.10/dist-packages (from dgl) (4.67.1)\n",
            "Requirement already satisfied: torch<=2.4.0 in /usr/local/lib/python3.10/dist-packages (from dgl) (2.3.0)\n",
            "Requirement already satisfied: annotated-types>=0.6.0 in /usr/local/lib/python3.10/dist-packages (from pydantic>=2.0->dgl) (0.7.0)\n",
            "Requirement already satisfied: pydantic-core==2.27.1 in /usr/local/lib/python3.10/dist-packages (from pydantic>=2.0->dgl) (2.27.1)\n",
            "Requirement already satisfied: typing-extensions>=4.12.2 in /usr/local/lib/python3.10/dist-packages (from pydantic>=2.0->dgl) (4.12.2)\n",
            "Requirement already satisfied: charset-normalizer<4,>=2 in /usr/local/lib/python3.10/dist-packages (from requests>=2.19.0->dgl) (3.4.0)\n",
            "Requirement already satisfied: idna<4,>=2.5 in /usr/local/lib/python3.10/dist-packages (from requests>=2.19.0->dgl) (3.10)\n",
            "Requirement already satisfied: urllib3<3,>=1.21.1 in /usr/local/lib/python3.10/dist-packages (from requests>=2.19.0->dgl) (2.2.3)\n",
            "Requirement already satisfied: certifi>=2017.4.17 in /usr/local/lib/python3.10/dist-packages (from requests>=2.19.0->dgl) (2024.12.14)\n",
            "Requirement already satisfied: filelock in /usr/local/lib/python3.10/dist-packages (from torch<=2.4.0->dgl) (3.16.1)\n",
            "Requirement already satisfied: sympy in /usr/local/lib/python3.10/dist-packages (from torch<=2.4.0->dgl) (1.13.1)\n",
            "Requirement already satisfied: jinja2 in /usr/local/lib/python3.10/dist-packages (from torch<=2.4.0->dgl) (3.1.4)\n",
            "Requirement already satisfied: fsspec in /usr/local/lib/python3.10/dist-packages (from torch<=2.4.0->dgl) (2024.10.0)\n",
            "Requirement already satisfied: nvidia-cuda-nvrtc-cu12==12.1.105 in /usr/local/lib/python3.10/dist-packages (from torch<=2.4.0->dgl) (12.1.105)\n",
            "Requirement already satisfied: nvidia-cuda-runtime-cu12==12.1.105 in /usr/local/lib/python3.10/dist-packages (from torch<=2.4.0->dgl) (12.1.105)\n",
            "Requirement already satisfied: nvidia-cuda-cupti-cu12==12.1.105 in /usr/local/lib/python3.10/dist-packages (from torch<=2.4.0->dgl) (12.1.105)\n",
            "Requirement already satisfied: nvidia-cudnn-cu12==8.9.2.26 in /usr/local/lib/python3.10/dist-packages (from torch<=2.4.0->dgl) (8.9.2.26)\n",
            "Requirement already satisfied: nvidia-cublas-cu12==12.1.3.1 in /usr/local/lib/python3.10/dist-packages (from torch<=2.4.0->dgl) (12.1.3.1)\n",
            "Requirement already satisfied: nvidia-cufft-cu12==11.0.2.54 in /usr/local/lib/python3.10/dist-packages (from torch<=2.4.0->dgl) (11.0.2.54)\n",
            "Requirement already satisfied: nvidia-curand-cu12==10.3.2.106 in /usr/local/lib/python3.10/dist-packages (from torch<=2.4.0->dgl) (10.3.2.106)\n",
            "Requirement already satisfied: nvidia-cusolver-cu12==11.4.5.107 in /usr/local/lib/python3.10/dist-packages (from torch<=2.4.0->dgl) (11.4.5.107)\n",
            "Requirement already satisfied: nvidia-cusparse-cu12==12.1.0.106 in /usr/local/lib/python3.10/dist-packages (from torch<=2.4.0->dgl) (12.1.0.106)\n",
            "Requirement already satisfied: nvidia-nccl-cu12==2.20.5 in /usr/local/lib/python3.10/dist-packages (from torch<=2.4.0->dgl) (2.20.5)\n",
            "Requirement already satisfied: nvidia-nvtx-cu12==12.1.105 in /usr/local/lib/python3.10/dist-packages (from torch<=2.4.0->dgl) (12.1.105)\n",
            "Requirement already satisfied: triton==2.3.0 in /usr/local/lib/python3.10/dist-packages (from torch<=2.4.0->dgl) (2.3.0)\n",
            "Requirement already satisfied: nvidia-nvjitlink-cu12 in /usr/local/lib/python3.10/dist-packages (from nvidia-cusolver-cu12==11.4.5.107->torch<=2.4.0->dgl) (12.6.85)\n",
            "Requirement already satisfied: python-dateutil>=2.8.2 in /usr/local/lib/python3.10/dist-packages (from pandas->dgl) (2.8.2)\n",
            "Requirement already satisfied: pytz>=2020.1 in /usr/local/lib/python3.10/dist-packages (from pandas->dgl) (2024.2)\n",
            "Requirement already satisfied: tzdata>=2022.7 in /usr/local/lib/python3.10/dist-packages (from pandas->dgl) (2024.2)\n",
            "Requirement already satisfied: six>=1.5 in /usr/local/lib/python3.10/dist-packages (from python-dateutil>=2.8.2->pandas->dgl) (1.17.0)\n",
            "Requirement already satisfied: MarkupSafe>=2.0 in /usr/local/lib/python3.10/dist-packages (from jinja2->torch<=2.4.0->dgl) (3.0.2)\n",
            "Requirement already satisfied: mpmath<1.4,>=1.1.0 in /usr/local/lib/python3.10/dist-packages (from sympy->torch<=2.4.0->dgl) (1.3.0)\n"
          ]
        }
      ],
      "source": [
        "!pip install dgl -f https://data.dgl.ai/wheels/torch-2.3/cu121/repo.html"
      ]
    },
    {
      "cell_type": "code",
      "execution_count": null,
      "metadata": {
        "id": "kcnKQ69WbBvt"
      },
      "outputs": [],
      "source": [
        "#-------------- Necessary imports -------------------\n",
        "import random\n",
        "import torch\n",
        "import warnings\n",
        "import numpy as np\n",
        "import networkx as nx\n",
        "import os\n",
        "import dgl\n",
        "\n",
        "from time import time\n",
        "\n",
        "warnings.filterwarnings('ignore')\n"
      ]
    },
    {
      "cell_type": "code",
      "execution_count": null,
      "metadata": {
        "id": "azU8spJzbFwk"
      },
      "outputs": [],
      "source": [
        "#------- Known chromatic numbers for specified problems (from references) ---------\n",
        "chromatic_numbers = {\n",
        "    # COLOR graphs\n",
        "    'jean.col': 10,\n",
        "    'anna.col': 11,\n",
        "    'huck.col': 11,\n",
        "    'david.col': 11,\n",
        "    'homer.col': 13,\n",
        "    'myciel5.col': 6,\n",
        "    'myciel6.col': 7,\n",
        "    'queen5_5.col': 5,\n",
        "    'queen6_6.col': 7,\n",
        "    'queen7_7.col': 7,\n",
        "    'queen8_8.col': 9,\n",
        "    'queen9_9.col': 10,\n",
        "    'queen8_12.col': 12,\n",
        "    'queen11_11.col': 11,\n",
        "    'queen13_13.col': 13,\n",
        "    # Citations graphs\n",
        "    'cora.cites': 5,\n",
        "    'citeseer.cites': 6,\n",
        "    'pubmed.cites': 8\n",
        "}"
      ]
    },
    {
      "cell_type": "code",
      "execution_count": null,
      "metadata": {
        "id": "2P9akNUdbJyC"
      },
      "outputs": [],
      "source": [
        "#----- Setting up seeds ------------\n",
        "\n",
        "import random\n",
        "def set_seed(seed):\n",
        "  \"\"\"\n",
        "  Setting seeds for training\n",
        "  : Seed type: int\n",
        "\n",
        "  \"\"\"\n",
        "  random.seed(seed)\n",
        "  np.random.seed(seed)\n",
        "  torch.manual_seed(seed)\n",
        "  if torch.cuda.is_available():\n",
        "    torch.cuda.manual_seed(seed)\n",
        "\n"
      ]
    },
    {
      "cell_type": "code",
      "execution_count": null,
      "metadata": {
        "id": "ddZ-fn6VbMmt"
      },
      "outputs": [],
      "source": [
        "#------------ Getting adjacency matrix of the graph -------------\n",
        "\n",
        "def get_adjacency_matrix(graph, torch_device, torch_dtype):\n",
        "  \"\"\"\n",
        "  Loading adjacency matrix of the graph\n",
        "\n",
        "  :param graph: Graph object\n",
        "  :type of graph: network.OrderedGraph\n",
        "  :param torch_device: Compute device(GPU or CPU) to map computations\n",
        "  :type of torch_device: str\n",
        "  :param torch_dtype: Pytorch datatype to use for matrix\n",
        "  :type torch_dtype: str\n",
        "  :return: Adjacency matrix of the graph\n",
        "  :return type: torch.tensor\n",
        "  \"\"\"\n",
        "\n",
        "  adj_matrix = nx.linalg.graphmatrix.adjacency_matrix(graph).todense() # creating adjacency matrix. Need to know how and differences\n",
        "  adj_matrix_final = torch.tensor(adj_matrix).type(torch_dtype).to(torch_device)\n",
        "\n",
        "  return adj_matrix_final\n"
      ]
    },
    {
      "cell_type": "code",
      "execution_count": null,
      "metadata": {
        "id": "ssgZvfYWbPHE"
      },
      "outputs": [],
      "source": [
        "#---------- Parsing the lines from Colored graphs ---------\n",
        "\n",
        "def parse_lines(lines, node_offset):\n",
        "  \"\"\"\n",
        "  This function will parse lines from the files. \"e\" denotes an edge between two node. So, it will skip the first character, and return those two nodes.\n",
        "\n",
        "  :param lines: line to be parsed\n",
        "  :type lines: str\n",
        "  :param node_offset: How much to add to count for file numbering\n",
        "  :type node_off_set: int\n",
        "  :return: Two nodes of a connected edge (node_from, node_to)\n",
        "  :return type: int, int\n",
        "  \"\"\"\n",
        "\n",
        "  node_from, node_to = lines.split(' ')[1:] #Skipping the first character as it specifies there is an edge\n",
        "  node_from, node_to = int(node_from)+node_offset, int(node_to)+node_offset ## nodes in file are 1-indexed, whereas python is 0-indexed\n",
        "\n",
        "  return node_from, node_to\n"
      ]
    },
    {
      "cell_type": "code",
      "execution_count": null,
      "metadata": {
        "id": "EV1dFuf5bRmc"
      },
      "outputs": [],
      "source": [
        "import networkx as nx\n",
        "import torch\n",
        "import torch.nn as nn\n",
        "import torch.nn.functional as F\n",
        "import random\n",
        "import numpy as np\n",
        "import os\n",
        "\n",
        "from dgl.nn.pytorch import SAGEConv\n",
        "from dgl.nn.pytorch import GraphConv\n",
        "from itertools import chain"
      ]
    },
    {
      "cell_type": "code",
      "execution_count": null,
      "metadata": {
        "id": "1gAbsw4kbT8j"
      },
      "outputs": [],
      "source": [
        "#-------- Building graphs from colored graphs -------\n",
        "\n",
        "def building_color_graphs_from_file(file_name, node_offset=-1, file_path=''):\n",
        "  \"\"\"\n",
        "  Load problem definition(graph) from COLOR file (e.g. *.col)\n",
        "\n",
        "  :param file_name: File name of the color file\n",
        "  :type file_name: str\n",
        "  :param node_offset: How much to offset node values contained in file\n",
        "  :type node_offset: int\n",
        "  :param file_path: path of the file named 'file_name'\n",
        "  :type file_path: str\n",
        "  :return: Graph\n",
        "  :return type: networkx.OrderedGraph\n",
        "  \"\"\"\n",
        "\n",
        "  fpath = os.path.join(file_path, file_name)\n",
        "  print(f'Building graph from contents of file: {fpath}')\n",
        "  with open(fpath, 'r') as f:\n",
        "    content = f.read().strip()\n",
        "\n",
        "  # Identify where problem definition starts.\n",
        "  # All lines prior to this are assumed to be miscellaneous descriptions of file contents\n",
        "  # which start with \"c \".\n",
        "\n",
        "  start_index = [idx for idx, line in enumerate(content.split('\\n')) if line.startswith('p')][0] #The index of the first line in content that starts with the letter 'p'\n",
        "  lines = content.split('\\n')[start_index:]  # skip comment line(s)\n",
        "  edges = [parse_lines(line, node_offset) for line in lines[1:] if len(line) > 0]\n",
        "\n",
        "  nx_temp = nx.from_edgelist(edges)\n",
        "\n",
        "  nx_graph = nx.Graph()\n",
        "  nx_graph.add_nodes_from(sorted(nx_temp.nodes()))\n",
        "  nx_graph.add_edges_from(nx_temp.edges)\n",
        "\n",
        "  return nx_graph\n",
        "\n"
      ]
    },
    {
      "cell_type": "code",
      "execution_count": null,
      "metadata": {
        "id": "SvKdzorEbWUc"
      },
      "outputs": [],
      "source": [
        "#--------- Graph Sage Class -----------\n",
        "\n",
        "class GraphSAGE(nn.Module):\n",
        "  \"\"\"\n",
        "  Basic GraphSAGE-based GNN class object. It constraucts model architecture upon initialization, defines a forward step to include revelent parameters,\n",
        "  in this case just drop out\n",
        "\n",
        "  \"\"\"\n",
        "\n",
        "  def __init__(self, graph, input_features, hidden_size, num_classes, dropout, aggregator_type):\n",
        "     \"\"\"\n",
        "     Initializes the GraphSAGE class. Establishes model architecture and hyperparameters ('dropout', 'num_classes', 'aggregator_type')\n",
        "     :param graph: Input graph object\n",
        "     :type graph: dgl.DGLHeteroGraph\n",
        "     :param input_features: Size of input layers/ number of nodes of input layer\n",
        "     :type input_features: int\n",
        "     :param hidden_size: Size of hidden layers\n",
        "     :type hidden_size: int\n",
        "     :param num_classes: Size of output layer\n",
        "     :type num_classes: int\n",
        "     :param dropout: Dropout fraction, between convolutional layers\n",
        "     :type dropout: float\n",
        "     :param aggregator_type: Aggregation type for each graphSAGE layer. In this example, all layers will use the same aggregation types\n",
        "     :type aggregator_type: str\n",
        "     \"\"\"\n",
        "\n",
        "     super(GraphSAGE, self).__init__()\n",
        "     self.graph = graph\n",
        "     self.num_classes = num_classes\n",
        "\n",
        "     self.layers = nn.ModuleList()\n",
        "\n",
        "     #input layer\n",
        "     self.layers.append(SAGEConv(input_features, hidden_size, aggregator_type, activation=F.relu))\n",
        "     self.dropout = nn.Dropout(p=dropout)\n",
        "\n",
        "     #output layer\n",
        "     self.layers.append(SAGEConv(hidden_size, num_classes, aggregator_type))\n",
        "     self.dropout = nn.Dropout(p=dropout)\n",
        "\n",
        "\n",
        "  def forward(self, features):\n",
        "    \"\"\"\n",
        "    Define forward step of the network. In this example, pass inputs through convolution, activation function relu nad dropout has been applied, then pass through second convolution\n",
        "\n",
        "    :param features: Input node representations\n",
        "    :type features: torch.tensor\n",
        "    :return: Final layer representation, pre-activation(i.e. class logits) Logits = logits refer to the raw, unnormalized output values produced by the last layer of a neural network\n",
        "             before applying an activation function like softmax or sigmoid.\n",
        "    :return type: torch.tensor\n",
        "    \"\"\"\n",
        "\n",
        "    h = features\n",
        "    for i, layer in enumerate(self.layers):\n",
        "      if i != 0:\n",
        "        h = self.dropout(h)\n",
        "      h = layer(self.graph, h)\n",
        "\n",
        "    return h\n",
        "\n",
        "\n",
        "\n"
      ]
    },
    {
      "cell_type": "code",
      "execution_count": null,
      "metadata": {
        "id": "FQFBpDZdbYtU"
      },
      "outputs": [],
      "source": [
        "# Define GNN GraphConv object\n",
        "class GNNConv(nn.Module):\n",
        "    \"\"\"\n",
        "    Basic GraphConv-based GNN class object. Constructs the model architecture upon\n",
        "    initialization. Defines a forward step to include relevant parameters - in this\n",
        "    case, just dropout.\n",
        "    \"\"\"\n",
        "\n",
        "    def __init__(self, g, in_feats, hidden_size, num_classes, dropout):\n",
        "        \"\"\"\n",
        "        Initialize the model object. Establishes model architecture and relevant hypers (`dropout`, `num_classes`, `agg_type`)\n",
        "\n",
        "        :param g: Input graph object\n",
        "        :type g: dgl.DGLHeteroGraph\n",
        "        :param in_feats: Size (number of nodes) of input layer\n",
        "        :type in_feats: int\n",
        "        :param hidden_size: Size of hidden layer\n",
        "        :type hidden_size: int\n",
        "        :param num_classes: Size of output layer (one node per class)\n",
        "        :type num_classes: int\n",
        "        :param dropout: Dropout fraction, between two convolutional layers\n",
        "        :type dropout: float\n",
        "        \"\"\"\n",
        "\n",
        "        super(GNNConv, self).__init__()\n",
        "        self.g = g\n",
        "        self.layers = nn.ModuleList()\n",
        "        # input layer\n",
        "        self.layers.append(GraphConv(in_feats, hidden_size, activation=F.relu))\n",
        "        # output layer\n",
        "        self.layers.append(GraphConv(hidden_size, num_classes))\n",
        "        self.dropout = nn.Dropout(p=dropout)\n",
        "\n",
        "    def forward(self, features):\n",
        "        \"\"\"\n",
        "        Define forward step of netowrk. In this example, pass inputs through convolution, apply relu\n",
        "        and dropout, then pass through second convolution.\n",
        "\n",
        "        :param features: Input node representations\n",
        "        :type features: torch.tensor\n",
        "        :return: Final layer representation, pre-activation (i.e. class logits)\n",
        "        :rtype: torch.tensor\n",
        "        \"\"\"\n",
        "\n",
        "        h = features\n",
        "        for i, layer in enumerate(self.layers):\n",
        "            if i != 0:\n",
        "                h = self.dropout(h)\n",
        "            h = layer(self.g, h)\n",
        "        return h"
      ]
    },
    {
      "cell_type": "code",
      "execution_count": null,
      "metadata": {
        "id": "SvbZ4WDCbbi8"
      },
      "outputs": [],
      "source": [
        "#--------------- Load GNN object, optimizer, and initial embedding layer -------\n",
        "\n",
        "def get_gnn(graph, num_nodes, gnn_hyperparameters, opt_parameters, torch_device, torch_dtype):\n",
        "  \"\"\"\n",
        "  Helper function to load in GNN object, optimizer, and initial embedding layer\n",
        "\n",
        "  :param num_nodes: Number of nodes in the graph\n",
        "  :type num_nodes: int\n",
        "  :param gnn_hyperparameters: Hyperparameters to provide to GNN constructor\n",
        "  :type gnn_hyperparameters: dict\n",
        "  :param opt_parameters: Hyperparameters to provide to optimizer constructor\n",
        "  :type opt_parameters: dict\n",
        "  :param torch_device: Compute device(GUP or CPU) to map computations\n",
        "  :type torch_device: str\n",
        "  :param torch_dtype: Pytorch datatype to use for matrix\n",
        "  :type torch_dtype: str\n",
        "  :return: Initialized GNN instance, embedding layer, initialized optimizer instance\n",
        "  :return type: GNN_SAGE, torch.nn.Emdedding, torch.optim.AdamW\n",
        "  \"\"\"\n",
        "\n",
        "  try:\n",
        "    print(f'Function get_gnn(): Setting seed to {gnn_hyperparameters}[\"seed\"]')\n",
        "    set_seed(gnn_hyperparameters['seed'])\n",
        "  except KeyError:\n",
        "     print('!! Function get_gnn(): Seed not specified in gnn_hypers object. Defaulting to 0 !!')\n",
        "     set_seed(0)\n",
        "\n",
        "  model = gnn_hyperparameters['model']\n",
        "  dim_embedding = gnn_hyperparameters['dim_embedding']\n",
        "  hidden_dim = gnn_hyperparameters['hidden_dim']\n",
        "  dropout = gnn_hyperparameters['dropout']\n",
        "  number_classes = gnn_hyperparameters['number_classes']\n",
        "  aggregator_type = gnn_hyperparameters['layer_agg_type']\n",
        "\n",
        "\n",
        "  print(f'Building {model} model...')\n",
        "  if model == 'GraphSAGE':\n",
        "      net = GraphSAGE(graph, dim_embedding, hidden_dim, number_classes, dropout, aggregator_type )\n",
        "  elif model == \"GraphConv\":\n",
        "      net = GNNConv(graph, dim_embedding, hidden_dim, number_classes, dropout)\n",
        "  else:\n",
        "      raise ValueError(\"Invalid model type input! Model type has to be in one of these two options: ['GraphConv', 'GraphSAGE']\")\n",
        "  net = net.type(torch_dtype).to(torch_device)\n",
        "  embed = nn.Embedding(num_nodes, dim_embedding).type(torch_dtype).to(torch_device)\n",
        "\n",
        "\n",
        "  #Setting up Adam optimizer\n",
        "  params = chain(net.parameters(), embed.parameters())\n",
        "  print('Building ADAM-W optimizer...')\n",
        "  optimizer = torch.optim.AdamW(params, **opt_parameters, weight_decay=1e-2)\n",
        "\n",
        "  return net, embed, optimizer"
      ]
    },
    {
      "cell_type": "code",
      "execution_count": null,
      "metadata": {
        "id": "aZRx-UH1beTU"
      },
      "outputs": [],
      "source": [
        "#---- Calculating loss function -----\n",
        "def loss_func_mod(probs, adj_tensor):\n",
        "  \"\"\"\n",
        "  Function to compute cost value based on soft assignments (Probabilities)\n",
        "\n",
        "  :param probs: Probability vector, of each node belonging to each class\n",
        "  :type probs: torch.tensor\n",
        "  :param adj_tensor: Adjacency matrix, containing internode weights\n",
        "  :type adj_tensor: torch.tensor\n",
        "  :return: loss, given the current soft assignments (probabilities)\n",
        "  :return type: float\n",
        "  \"\"\"\n",
        "  # probs.T is the transpose of probs\n",
        "  # (probs @ probs.t) means matrix multiplication in PyTorch. This result will give a matrix where each entry describes the similarity or interaction between pairs of rows from probs\n",
        "  # This operation can be thought of as weighting the node interactions based on their connectivity in the graph\n",
        "  #  Divide by 2 to adjust for symmetry about the diagonal (In an undirected graph, edges between nodes are connected twice)\n",
        "\n",
        "  # Calculating the similarity (dot product) between pairs of node vectors (or probability vectors)\n",
        "  # Weighting these similarities based on the adjacency matrix (so only connected nodes matter)\n",
        "  # Summing up these weighted similarities and dividing by 2 to account for symmetric connections\n",
        "\n",
        "  lambda_factor = 0.001\n",
        "  loss = torch.mul(adj_tensor, (probs @ probs.T)).sum() / 2 - lambda_factor * torch.exp(probs @ probs.T).sum()\n",
        "\n",
        "\n",
        "  return loss"
      ]
    },
    {
      "cell_type": "code",
      "execution_count": null,
      "metadata": {
        "id": "K_HokZKebheT"
      },
      "outputs": [],
      "source": [
        "#-------- custom loss according to Q matrix(given colors) -------\n",
        "def loss_func_color_hard(coloring, nx_graph):\n",
        "    \"\"\"\n",
        "    Function to compute cost value based on color vector (0, 2, 1, 4, 1, ...)\n",
        "\n",
        "    :param coloring: Vector of class assignments (colors)\n",
        "    :type coloring: torch.tensor\n",
        "    :param nx_graph: Graph to evaluate classifications on\n",
        "    :type nx_graph: networkx.OrderedGraph\n",
        "    :return: Cost of provided class assignments\n",
        "    :rtype: torch.tensor\n",
        "    \"\"\"\n",
        "\n",
        "    cost = 0\n",
        "    for (u, v) in nx_graph.edges:\n",
        "        cost += 1*(coloring[u] == coloring[v])*(u != v)\n",
        "\n",
        "    return cost"
      ]
    },
    {
      "cell_type": "code",
      "execution_count": null,
      "metadata": {
        "id": "EHJczDUHbkUc"
      },
      "outputs": [],
      "source": [
        "#--------- training --------\n",
        "\n",
        "def run_gnn_training(nx_graph, graph_dgl, adj_mat, net, embed, optimizer, number_epochs=int(1e5), patience=1000, tolerance=1e-4, seed=1 ):\n",
        "  \"\"\"\n",
        "  Function to run model training for given graph, GNN, optimizer, and set of hypers.\n",
        "  Includes basic early stopping criteria. Prints regular updates on progress as well as\n",
        "  final decision.\n",
        "\n",
        "  :param nx_graph: Graph instance to solve\n",
        "  :param graph_dgl: Graph instance to solve\n",
        "  :param adj_mat: Adjacency matrix for provided graph\n",
        "  :type adj_mat: torch.tensor\n",
        "  :param net: GNN instance to train\n",
        "  :type net: GNN_Conv or GNN_SAGE\n",
        "  :param embed: Initial embedding layer\n",
        "  :type embed: torch.nn.Embedding\n",
        "\n",
        "  In the context of a Graph Neural Network (GNN), an initial embedding layer refers to the layer where the features of each node (or edge) in the graph are first transformed\n",
        "  or encoded into a high-dimensional vector space, before passing through the GNN layers for further processing.\n",
        "\n",
        "  :param optimizer: Optimizer instance used to fit model parameters\n",
        "  :type optimizer: torch.optim.AdamW\n",
        "  :param number_epochs: Limit on number of training epochs to run\n",
        "  :type number_epochs: int\n",
        "  :param patience: Number of epochs to wait before triggering early stopping\n",
        "  :type patience: int\n",
        "  :param tolerance: Minimum change in cost to be considered non-converged (i.e.\n",
        "      any change less than tolerance will add to early stopping count)\n",
        "  :type tolerance: float\n",
        "\n",
        "  :return: Final model probabilities, best color vector found during training, best loss found during training,\n",
        "  final color vector of training, final loss of training, number of epochs used in training\n",
        "  :rtype: torch.tensor, torch.tensor, torch.tensor, torch.tensor, torch.tensor, int\n",
        "  \"\"\"\n",
        "\n",
        "  print(f'Function run_gnn_training(): Setting seed to {seed}')\n",
        "  set_seed(seed)\n",
        "\n",
        "  inputs = embed.weight\n",
        "\n",
        "  # Tracking\n",
        "  best_cost = torch.tensor(float('Inf'))\n",
        "  best_loss = torch.tensor(float('Inf'))\n",
        "  best_coloring = None\n",
        "\n",
        "  # Early stopping to allow GNN to train to near-completion\n",
        "  prev_loss = 1 #Initialize loss value(arbitrary)\n",
        "  count = 0 #track number of times early stopping is triggered\n",
        "\n",
        "  # Training\n",
        "\n",
        "  for epoch in range(number_epochs):\n",
        "\n",
        "    # get soft probability assignments/ output values produced by last layer\n",
        "    logits = net(inputs)\n",
        "\n",
        "    # apply softmax normalization\n",
        "    probs = F.softmax(logits, dim=1)\n",
        "\n",
        "    # get cost value with POTTS cost function\n",
        "    loss = loss_func_mod(probs, adj_mat)\n",
        "\n",
        "    # get cost based on current hard class assignments(coloring)\n",
        "    # update cost if application\n",
        "    coloring = torch.argmax(probs, dim=1)\n",
        "    cost_hard = loss_func_color_hard(coloring, nx_graph)\n",
        "\n",
        "    if cost_hard < best_cost:\n",
        "      best_loss = loss\n",
        "      best_cost = cost_hard\n",
        "      best_coloring = coloring\n",
        "\n",
        "    #Early stopping check\n",
        "    # If loss increases or change in loss is too small, trigger\n",
        "    if (abs(loss - prev_loss) <= tolerance) | ((loss - prev_loss) > 0):\n",
        "      count += 1\n",
        "    else:\n",
        "      count = 0\n",
        "\n",
        "    # update loss tracking\n",
        "    prev_loss = loss\n",
        "\n",
        "    if count >= patience:\n",
        "      print(f'Stopping early on epoch {epoch}. Patience count: {count}')\n",
        "      break\n",
        "\n",
        "    # run optimizer with backpropagation\n",
        "    optimizer.zero_grad() #clear gradient for step\n",
        "    loss.backward() #calculate gradient through compute graph\n",
        "    optimizer.step() #take step, update weights\n",
        "\n",
        "    #tracking: print intermediate loss at regular interval\n",
        "    if epoch % 1000 == 0:\n",
        "      print('Epoch %d | Soft Loss: %.5f' % (epoch, loss.item()))\n",
        "      print('Epoch %d | Discrete Cost: %.5f' % (epoch, cost_hard.item()))\n",
        "\n",
        "  #Print final loss\n",
        "  print('Epoch %d | Final loss: %.5f' % (epoch, loss.item()))\n",
        "  print('Epoch %d | Lowest discrete cost: %.5f' % (epoch, best_cost))\n",
        "\n",
        "  # Final Coloring\n",
        "  final_loss = loss\n",
        "  final_coloring = torch.argmax(probs, 1)\n",
        "  print(f'Final coloring: {final_coloring}, soft loss: {final_loss}')\n",
        "\n",
        "  return probs, best_coloring, best_loss, final_coloring, final_loss, epoch"
      ]
    },
    {
      "cell_type": "code",
      "execution_count": null,
      "metadata": {
        "colab": {
          "base_uri": "https://localhost:8080/"
        },
        "id": "QDweikl2bnE0",
        "outputId": "7d4f2e1d-a8e0-4725-e3e7-1ab31721e193"
      },
      "outputs": [
        {
          "output_type": "stream",
          "name": "stdout",
          "text": [
            "Will use device: cuda, torch dtype: torch.float32\n"
          ]
        }
      ],
      "source": [
        "# fix seed to ensure consistent results\n",
        "SEED_VALUE = 0\n",
        "random.seed(SEED_VALUE)        # seed python RNG\n",
        "np.random.seed(SEED_VALUE)     # seed global NumPy RNG\n",
        "torch.manual_seed(SEED_VALUE)  # seed torch RNG\n",
        "\n",
        "# Set GPU/CPU\n",
        "TORCH_DEVICE = torch.device('cuda' if torch.cuda.is_available() else 'cpu')\n",
        "TORCH_DTYPE = torch.float32\n",
        "print(f'Will use device: {TORCH_DEVICE}, torch dtype: {TORCH_DTYPE}')"
      ]
    },
    {
      "cell_type": "code",
      "execution_count": null,
      "metadata": {
        "id": "6BB-aZjKbqD0"
      },
      "outputs": [],
      "source": [
        "# create directory for storing input data\n",
        "\n",
        "input_data_path = './data/input/COLOR/instances'\n",
        "if not os.path.exists(input_data_path):\n",
        "    os.makedirs(input_data_path)"
      ]
    },
    {
      "cell_type": "code",
      "execution_count": null,
      "metadata": {
        "colab": {
          "base_uri": "https://localhost:8080/"
        },
        "id": "QvwxzxSXbsyk",
        "outputId": "e9c41baf-4d0c-4f3c-e56d-0f55f137affc"
      },
      "outputs": [
        {
          "output_type": "stream",
          "name": "stdout",
          "text": [
            "--2024-12-24 07:35:14--  https://mat.tepper.cmu.edu/COLOR/instances/instances.tar\n",
            "Resolving mat.tepper.cmu.edu (mat.tepper.cmu.edu)... 128.2.25.179\n",
            "Connecting to mat.tepper.cmu.edu (mat.tepper.cmu.edu)|128.2.25.179|:443... connected.\n",
            "HTTP request sent, awaiting response... 200 OK\n",
            "Length: 3907584 (3.7M) [application/x-tar]\n",
            "Saving to: ‘./data/input/COLOR/instances.tar.6’\n",
            "\n",
            "instances.tar.6     100%[===================>]   3.73M  6.30MB/s    in 0.6s    \n",
            "\n",
            "2024-12-24 07:35:15 (6.30 MB/s) - ‘./data/input/COLOR/instances.tar.6’ saved [3907584/3907584]\n",
            "\n"
          ]
        }
      ],
      "source": [
        "!wget https://mat.tepper.cmu.edu/COLOR/instances/instances.tar -P ./data/input/COLOR/"
      ]
    },
    {
      "cell_type": "code",
      "execution_count": null,
      "metadata": {
        "colab": {
          "base_uri": "https://localhost:8080/"
        },
        "id": "I5lO_9mTbwBV",
        "outputId": "efec9ff6-26f3-4f6d-e405-859041447164"
      },
      "outputs": [
        {
          "output_type": "stream",
          "name": "stdout",
          "text": [
            "DSJC1000.1.col.b\n",
            "DSJC1000.5.col.b\n",
            "DSJC1000.9.col.b\n",
            "DSJC125.1.col.b\n",
            "DSJC125.5.col.b\n",
            "DSJC125.9.col.b\n",
            "DSJC250.1.col.b\n",
            "DSJC250.5.col.b\n",
            "DSJC250.9.col.b\n",
            "DSJC500.1.col.b\n",
            "DSJC500.5.col.b\n",
            "DSJC500.9.col.b\n",
            "DSJR500.1.col.b\n",
            "DSJR500.1c.col.b\n",
            "DSJR500.5.col.b\n",
            "flat1000_50_0.col.b\n",
            "flat1000_60_0.col.b\n",
            "flat1000_76_0.col.b\n",
            "flat300_20_0.col.b\n",
            "flat300_26_0.col.b\n",
            "flat300_28_0.col.b\n",
            "anna.col\n",
            "david.col\n",
            "fpsol2.i.1.col\n",
            "fpsol2.i.2.col\n",
            "fpsol2.i.3.col\n",
            "games120.col\n",
            "homer.col\n",
            "huck.col\n",
            "inithx.i.1.col\n",
            "inithx.i.2.col\n",
            "inithx.i.3.col\n",
            "jean.col\n",
            "le450_15a.col\n",
            "le450_15b.col\n",
            "le450_15c.col\n",
            "le450_15d.col\n",
            "le450_25a.col\n",
            "le450_25b.col\n",
            "le450_25c.col\n",
            "le450_25d.col\n",
            "le450_5a.col\n",
            "le450_5b.col\n",
            "le450_5c.col\n",
            "le450_5d.col\n",
            "miles1000.col\n",
            "miles1500.col\n",
            "miles250.col\n",
            "miles500.col\n",
            "miles750.col\n",
            "mulsol.i.1.col\n",
            "mulsol.i.2.col\n",
            "mulsol.i.3.col\n",
            "mulsol.i.4.col\n",
            "mulsol.i.5.col\n",
            "myciel2.col\n",
            "myciel3.col\n",
            "myciel4.col\n",
            "myciel5.col\n",
            "myciel6.col\n",
            "myciel7.col\n",
            "queen10_10.col\n",
            "queen11_11.col\n",
            "queen12_12.col\n",
            "queen13_13.col\n",
            "queen14_14.col\n",
            "queen15_15.col\n",
            "queen16_16.col\n",
            "queen5_5.col\n",
            "queen6_6.col\n",
            "queen7_7.col\n",
            "queen8_12.col\n",
            "queen8_8.col\n",
            "queen9_9.col\n",
            "school1.col\n",
            "school1_nsh.col\n",
            "zeroin.i.1.col\n",
            "zeroin.i.2.col\n",
            "zeroin.i.3.col\n"
          ]
        }
      ],
      "source": [
        "!tar -xvf ./data/input/COLOR/instances.tar -C './data/input/COLOR/instances'"
      ]
    },
    {
      "cell_type": "code",
      "execution_count": null,
      "metadata": {
        "id": "9CwWbYAxb0DL"
      },
      "outputs": [],
      "source": [
        "\"\"\"\n",
        "Provided a default set of model hyperparameters. We can modify it\n",
        "\"\"\"\n",
        "\n",
        "problem_file = 'queen11_11.col'\n",
        "input_parent = './data/input/COLOR/instances'"
      ]
    },
    {
      "cell_type": "code",
      "execution_count": null,
      "metadata": {
        "colab": {
          "base_uri": "https://localhost:8080/"
        },
        "id": "YHedpk2Cb26U",
        "outputId": "a80cdd7d-4a33-457d-f693-76eb09600a95"
      },
      "outputs": [
        {
          "output_type": "stream",
          "name": "stdout",
          "text": [
            "{'model': 'GraphSAGE', 'dim_embedding': 80, 'dropout': 0.2974, 'learning_rate': 0.046, 'hidden_dim': 25, 'seed': 0}\n",
            "{'model': 'GraphSAGE', 'dim_embedding': 80, 'dropout': 0.2974, 'learning_rate': 0.046, 'hidden_dim': 25, 'seed': 0, 'tolerance': 0.001, 'number_epochs': 100000, 'patience': 500, 'graph_file': 'queen11_11.col', 'layer_agg_type': 'mean', 'number_classes': 11}\n"
          ]
        }
      ],
      "source": [
        "# Sample hyperparameters\n",
        "if TORCH_DEVICE.type == 'cpu':  # example with CPU\n",
        "    hypers = {\n",
        "        'model': 'GraphConv',   # set either with 'GraphConv' or 'GraphSAGE'. It cannot take other input\n",
        "        'dim_embedding': 64,\n",
        "        'dropout': 0.1,\n",
        "        'learning_rate': 0.0001,\n",
        "        'hidden_dim': 64,\n",
        "        'seed': SEED_VALUE\n",
        "    }\n",
        "else:                           # example with GPU\n",
        "    hypers = {\n",
        "        'model': 'GraphSAGE',\n",
        "        'dim_embedding': 80,\n",
        "        'dropout': 0.2974,\n",
        "        'learning_rate': 0.04600,\n",
        "        'hidden_dim': 25,\n",
        "        'seed': SEED_VALUE\n",
        "    }\n",
        "\n",
        "print(hypers)\n",
        "# Default meta parameters\n",
        "solver_hypers = {\n",
        "    'tolerance': 1e-3,           # Loss must change by more than tolerance, or add towards patience count\n",
        "    'number_epochs': int(1e5),   # Max number training steps\n",
        "    'patience': 500,             # Number early stopping triggers before breaking loop\n",
        "    'graph_file': problem_file,  # Which problem is being solved\n",
        "    'layer_agg_type': 'mean',    # How aggregate neighbors sampled within graphSAGE\n",
        "    'number_classes': chromatic_numbers[problem_file]\n",
        "}\n",
        "\n",
        "# Combine into a single set\n",
        "hypers.update(solver_hypers)\n",
        "print(hypers)"
      ]
    },
    {
      "cell_type": "code",
      "execution_count": null,
      "metadata": {
        "colab": {
          "base_uri": "https://localhost:8080/"
        },
        "id": "JBWLA4kwb9f8",
        "outputId": "ca97e7bc-073c-4d5a-cf61-92e686455eee"
      },
      "outputs": [
        {
          "output_type": "stream",
          "name": "stdout",
          "text": [
            "./data/input/COLOR/instances/queen11_11.col\n",
            "Building graph from contents of file: ./data/input/COLOR/instances/queen11_11.col\n"
          ]
        }
      ],
      "source": [
        "# Establish full input location\n",
        "input_fpath = os.path.join(input_parent, problem_file)\n",
        "print(input_fpath)\n",
        "\n",
        "# Load in graph\n",
        "nx_graph = building_color_graphs_from_file(input_fpath, node_offset=-1, file_path='')\n",
        "\n",
        "# Get DGL graph from networkx graph\n",
        "# Ensure relevant objects are placed onto proper torch device\n",
        "dgl_graph = dgl.from_networkx(nx_graph)\n",
        "dgl_graph = dgl_graph.to(TORCH_DEVICE)\n"
      ]
    },
    {
      "cell_type": "code",
      "execution_count": null,
      "metadata": {
        "colab": {
          "base_uri": "https://localhost:8080/"
        },
        "id": "40lcsTkycArb",
        "outputId": "c34eef4d-8123-4b7c-b887-5fce1ce17ec6"
      },
      "outputs": [
        {
          "output_type": "stream",
          "name": "stdout",
          "text": [
            "{'lr': 0.046}\n",
            "Function get_gnn(): Setting seed to {'model': 'GraphSAGE', 'dim_embedding': 80, 'dropout': 0.2974, 'learning_rate': 0.046, 'hidden_dim': 25, 'seed': 0, 'tolerance': 0.001, 'number_epochs': 100000, 'patience': 500, 'graph_file': 'queen11_11.col', 'layer_agg_type': 'mean', 'number_classes': 11}[\"seed\"]\n",
            "Building GraphSAGE model...\n",
            "Building ADAM-W optimizer...\n"
          ]
        }
      ],
      "source": [
        "# Retrieve known optimizer hypers\n",
        "opt_hypers = {\n",
        "    'lr': hypers.get('learning_rate', None)\n",
        "}\n",
        "print(opt_hypers)\n",
        "\n",
        "# Get adjacency matrix for use in calculations\n",
        "adj_ = get_adjacency_matrix(nx_graph, TORCH_DEVICE, TORCH_DTYPE)\n",
        "#print(adj_)\n",
        "\n",
        "net, embed, optimizer = get_gnn(dgl_graph, nx_graph.number_of_nodes(), hypers, opt_hypers, TORCH_DEVICE, TORCH_DTYPE)"
      ]
    },
    {
      "cell_type": "code",
      "execution_count": null,
      "metadata": {
        "colab": {
          "base_uri": "https://localhost:8080/"
        },
        "id": "3O37QdiwcE_U",
        "outputId": "fcd3be37-5385-43be-cc1a-c499c79c3402"
      },
      "outputs": [
        {
          "output_type": "stream",
          "name": "stdout",
          "text": [
            "Function run_gnn_training(): Setting seed to 0\n",
            "Epoch 0 | Soft Loss: 304.75742\n",
            "Epoch 0 | Discrete Cost: 415.00000\n",
            "Epoch 1000 | Soft Loss: 62.56312\n",
            "Epoch 1000 | Discrete Cost: 80.00000\n",
            "Epoch 2000 | Soft Loss: 67.55305\n",
            "Epoch 2000 | Discrete Cost: 85.00000\n",
            "Epoch 3000 | Soft Loss: 63.52212\n",
            "Epoch 3000 | Discrete Cost: 81.00000\n",
            "Epoch 4000 | Soft Loss: 60.55778\n",
            "Epoch 4000 | Discrete Cost: 78.00000\n",
            "Epoch 5000 | Soft Loss: 93.41820\n",
            "Epoch 5000 | Discrete Cost: 111.00000\n",
            "Epoch 6000 | Soft Loss: 81.73862\n",
            "Epoch 6000 | Discrete Cost: 99.00000\n",
            "Epoch 7000 | Soft Loss: 45.81422\n",
            "Epoch 7000 | Discrete Cost: 63.00000\n",
            "Epoch 8000 | Soft Loss: 40.94414\n",
            "Epoch 8000 | Discrete Cost: 59.00000\n",
            "Epoch 9000 | Soft Loss: 46.82110\n",
            "Epoch 9000 | Discrete Cost: 64.00000\n",
            "Epoch 10000 | Soft Loss: 51.37450\n",
            "Epoch 10000 | Discrete Cost: 69.00000\n",
            "Epoch 11000 | Soft Loss: 53.96788\n",
            "Epoch 11000 | Discrete Cost: 71.00000\n",
            "Epoch 12000 | Soft Loss: 37.80048\n",
            "Epoch 12000 | Discrete Cost: 55.00000\n",
            "Epoch 13000 | Soft Loss: 47.80086\n",
            "Epoch 13000 | Discrete Cost: 65.00000\n",
            "Epoch 14000 | Soft Loss: 32.80735\n",
            "Epoch 14000 | Discrete Cost: 50.00000\n",
            "Epoch 15000 | Soft Loss: 63.69219\n",
            "Epoch 15000 | Discrete Cost: 81.00000\n",
            "Epoch 16000 | Soft Loss: 37.79360\n",
            "Epoch 16000 | Discrete Cost: 55.00000\n",
            "Epoch 17000 | Soft Loss: 48.12674\n",
            "Epoch 17000 | Discrete Cost: 64.00000\n",
            "Epoch 18000 | Soft Loss: 31.82453\n",
            "Epoch 18000 | Discrete Cost: 49.00000\n",
            "Epoch 19000 | Soft Loss: 44.75237\n",
            "Epoch 19000 | Discrete Cost: 62.00000\n",
            "Epoch 20000 | Soft Loss: 35.80391\n",
            "Epoch 20000 | Discrete Cost: 53.00000\n",
            "Epoch 21000 | Soft Loss: 36.78264\n",
            "Epoch 21000 | Discrete Cost: 54.00000\n",
            "Epoch 22000 | Soft Loss: 29.81625\n",
            "Epoch 22000 | Discrete Cost: 47.00000\n",
            "Epoch 23000 | Soft Loss: 27.82110\n",
            "Epoch 23000 | Discrete Cost: 45.00000\n",
            "Epoch 24000 | Soft Loss: 32.81706\n",
            "Epoch 24000 | Discrete Cost: 50.00000\n",
            "Epoch 25000 | Soft Loss: 19.97231\n",
            "Epoch 25000 | Discrete Cost: 37.00000\n",
            "Epoch 26000 | Soft Loss: 20.97574\n",
            "Epoch 26000 | Discrete Cost: 38.00000\n",
            "Epoch 27000 | Soft Loss: 19.02084\n",
            "Epoch 27000 | Discrete Cost: 36.00000\n",
            "Epoch 28000 | Soft Loss: 18.04791\n",
            "Epoch 28000 | Discrete Cost: 35.00000\n",
            "Epoch 29000 | Soft Loss: 15.03073\n",
            "Epoch 29000 | Discrete Cost: 32.00000\n",
            "Epoch 30000 | Soft Loss: 32.90971\n",
            "Epoch 30000 | Discrete Cost: 49.00000\n",
            "Epoch 31000 | Soft Loss: 20.03416\n",
            "Epoch 31000 | Discrete Cost: 37.00000\n",
            "Epoch 32000 | Soft Loss: 16.05358\n",
            "Epoch 32000 | Discrete Cost: 33.00000\n",
            "Epoch 33000 | Soft Loss: 38.98757\n",
            "Epoch 33000 | Discrete Cost: 56.00000\n",
            "Epoch 34000 | Soft Loss: 19.01341\n",
            "Epoch 34000 | Discrete Cost: 36.00000\n",
            "Epoch 35000 | Soft Loss: 23.99293\n",
            "Epoch 35000 | Discrete Cost: 41.00000\n",
            "Epoch 36000 | Soft Loss: 15.03800\n",
            "Epoch 36000 | Discrete Cost: 32.00000\n",
            "Epoch 37000 | Soft Loss: 21.01353\n",
            "Epoch 37000 | Discrete Cost: 38.00000\n",
            "Epoch 38000 | Soft Loss: 8.05225\n",
            "Epoch 38000 | Discrete Cost: 25.00000\n",
            "Epoch 39000 | Soft Loss: 8.73891\n",
            "Epoch 39000 | Discrete Cost: 25.00000\n",
            "Epoch 40000 | Soft Loss: 13.04447\n",
            "Epoch 40000 | Discrete Cost: 30.00000\n",
            "Epoch 41000 | Soft Loss: 26.48315\n",
            "Epoch 41000 | Discrete Cost: 44.00000\n",
            "Epoch 42000 | Soft Loss: 13.80849\n",
            "Epoch 42000 | Discrete Cost: 31.00000\n",
            "Epoch 43000 | Soft Loss: 13.06174\n",
            "Epoch 43000 | Discrete Cost: 30.00000\n",
            "Epoch 44000 | Soft Loss: 7.05822\n",
            "Epoch 44000 | Discrete Cost: 24.00000\n",
            "Epoch 45000 | Soft Loss: 16.02386\n",
            "Epoch 45000 | Discrete Cost: 33.00000\n",
            "Epoch 46000 | Soft Loss: 12.04447\n",
            "Epoch 46000 | Discrete Cost: 29.00000\n",
            "Epoch 47000 | Soft Loss: 22.81638\n",
            "Epoch 47000 | Discrete Cost: 40.00000\n",
            "Epoch 48000 | Soft Loss: 11.05516\n",
            "Epoch 48000 | Discrete Cost: 28.00000\n",
            "Epoch 49000 | Soft Loss: 19.21648\n",
            "Epoch 49000 | Discrete Cost: 36.00000\n",
            "Epoch 50000 | Soft Loss: 30.57798\n",
            "Epoch 50000 | Discrete Cost: 48.00000\n",
            "Epoch 51000 | Soft Loss: 19.52922\n",
            "Epoch 51000 | Discrete Cost: 36.00000\n",
            "Epoch 52000 | Soft Loss: 21.03842\n",
            "Epoch 52000 | Discrete Cost: 38.00000\n",
            "Epoch 53000 | Soft Loss: 20.24106\n",
            "Epoch 53000 | Discrete Cost: 36.00000\n",
            "Epoch 54000 | Soft Loss: 23.00327\n",
            "Epoch 54000 | Discrete Cost: 40.00000\n",
            "Epoch 55000 | Soft Loss: 16.04449\n",
            "Epoch 55000 | Discrete Cost: 33.00000\n",
            "Epoch 56000 | Soft Loss: 15.20442\n",
            "Epoch 56000 | Discrete Cost: 32.00000\n",
            "Epoch 57000 | Soft Loss: 15.02731\n",
            "Epoch 57000 | Discrete Cost: 32.00000\n",
            "Epoch 58000 | Soft Loss: 22.01698\n",
            "Epoch 58000 | Discrete Cost: 39.00000\n",
            "Epoch 59000 | Soft Loss: 24.15903\n",
            "Epoch 59000 | Discrete Cost: 41.00000\n",
            "Epoch 60000 | Soft Loss: 26.01946\n",
            "Epoch 60000 | Discrete Cost: 43.00000\n",
            "Epoch 61000 | Soft Loss: 21.02055\n",
            "Epoch 61000 | Discrete Cost: 38.00000\n",
            "Epoch 62000 | Soft Loss: 17.01340\n",
            "Epoch 62000 | Discrete Cost: 34.00000\n",
            "Epoch 63000 | Soft Loss: 11.02077\n",
            "Epoch 63000 | Discrete Cost: 28.00000\n",
            "Epoch 64000 | Soft Loss: 19.01747\n",
            "Epoch 64000 | Discrete Cost: 36.00000\n",
            "Epoch 65000 | Soft Loss: 13.04830\n",
            "Epoch 65000 | Discrete Cost: 30.00000\n",
            "Epoch 66000 | Soft Loss: 30.99205\n",
            "Epoch 66000 | Discrete Cost: 48.00000\n",
            "Epoch 67000 | Soft Loss: 17.00386\n",
            "Epoch 67000 | Discrete Cost: 34.00000\n",
            "Epoch 68000 | Soft Loss: 28.97078\n",
            "Epoch 68000 | Discrete Cost: 48.00000\n",
            "Epoch 69000 | Soft Loss: 21.02386\n",
            "Epoch 69000 | Discrete Cost: 38.00000\n",
            "Epoch 70000 | Soft Loss: 18.76477\n",
            "Epoch 70000 | Discrete Cost: 36.00000\n",
            "Epoch 71000 | Soft Loss: 9.17053\n",
            "Epoch 71000 | Discrete Cost: 26.00000\n",
            "Epoch 72000 | Soft Loss: 21.01695\n",
            "Epoch 72000 | Discrete Cost: 38.00000\n",
            "Epoch 73000 | Soft Loss: 57.63500\n",
            "Epoch 73000 | Discrete Cost: 75.00000\n",
            "Epoch 74000 | Soft Loss: 8.05478\n",
            "Epoch 74000 | Discrete Cost: 25.00000\n",
            "Epoch 75000 | Soft Loss: 16.04094\n",
            "Epoch 75000 | Discrete Cost: 33.00000\n",
            "Epoch 76000 | Soft Loss: 26.00686\n",
            "Epoch 76000 | Discrete Cost: 43.00000\n",
            "Epoch 77000 | Soft Loss: 23.02386\n",
            "Epoch 77000 | Discrete Cost: 40.00000\n",
            "Epoch 78000 | Soft Loss: 13.05478\n",
            "Epoch 78000 | Discrete Cost: 30.00000\n",
            "Epoch 79000 | Soft Loss: 26.04127\n",
            "Epoch 79000 | Discrete Cost: 43.00000\n",
            "Epoch 80000 | Soft Loss: 14.04434\n",
            "Epoch 80000 | Discrete Cost: 31.00000\n",
            "Epoch 81000 | Soft Loss: 13.97926\n",
            "Epoch 81000 | Discrete Cost: 31.00000\n",
            "Epoch 82000 | Soft Loss: 15.66781\n",
            "Epoch 82000 | Discrete Cost: 32.00000\n",
            "Epoch 83000 | Soft Loss: 11.22908\n",
            "Epoch 83000 | Discrete Cost: 29.00000\n",
            "Epoch 84000 | Soft Loss: 18.03759\n",
            "Epoch 84000 | Discrete Cost: 35.00000\n",
            "Epoch 85000 | Soft Loss: 14.04226\n",
            "Epoch 85000 | Discrete Cost: 31.00000\n",
            "Epoch 86000 | Soft Loss: 6.65324\n",
            "Epoch 86000 | Discrete Cost: 24.00000\n",
            "Epoch 87000 | Soft Loss: 21.05478\n",
            "Epoch 87000 | Discrete Cost: 38.00000\n",
            "Epoch 88000 | Soft Loss: 15.03084\n",
            "Epoch 88000 | Discrete Cost: 32.00000\n",
            "Epoch 89000 | Soft Loss: 37.01011\n",
            "Epoch 89000 | Discrete Cost: 54.00000\n",
            "Epoch 90000 | Soft Loss: 14.04784\n",
            "Epoch 90000 | Discrete Cost: 31.00000\n",
            "Epoch 91000 | Soft Loss: 6.06166\n",
            "Epoch 91000 | Discrete Cost: 23.00000\n",
            "Epoch 92000 | Soft Loss: 13.04448\n",
            "Epoch 92000 | Discrete Cost: 30.00000\n",
            "Epoch 93000 | Soft Loss: 19.03047\n",
            "Epoch 93000 | Discrete Cost: 36.00000\n",
            "Epoch 94000 | Soft Loss: 12.97810\n",
            "Epoch 94000 | Discrete Cost: 29.00000\n",
            "Epoch 95000 | Soft Loss: 9.06509\n",
            "Epoch 95000 | Discrete Cost: 26.00000\n",
            "Epoch 96000 | Soft Loss: 14.02951\n",
            "Epoch 96000 | Discrete Cost: 31.00000\n",
            "Epoch 97000 | Soft Loss: 14.69306\n",
            "Epoch 97000 | Discrete Cost: 31.00000\n",
            "Epoch 98000 | Soft Loss: 22.03073\n",
            "Epoch 98000 | Discrete Cost: 39.00000\n",
            "Epoch 99000 | Soft Loss: 11.21689\n",
            "Epoch 99000 | Discrete Cost: 28.00000\n",
            "Epoch 99999 | Final loss: 20.00324\n",
            "Epoch 99999 | Lowest discrete cost: 18.00000\n",
            "Final coloring: tensor([ 5,  8,  6,  4, 10,  4,  9,  7,  3,  1,  2,  7,  9,  1,  3,  6,  2,  5,\n",
            "         5, 10,  4,  8,  4, 10,  2,  4,  1, 10,  7,  8,  1,  6,  0,  2,  6,  5,\n",
            "        10,  3,  8,  4,  0,  9,  3,  1,  5,  1,  6,  9,  2,  7,  4,  3,  8,  6,\n",
            "        10, 10,  7,  8,  1,  0,  6,  2,  4,  5,  9,  3,  3,  4,  0,  6,  7,  1,\n",
            "        10,  9,  2,  8,  5,  6,  9,  2,  8,  4,  5,  3,  1,  4, 10,  7,  4,  3,\n",
            "        10,  5,  9,  0,  8,  6,  7,  5,  9,  9,  5, 10,  2,  8,  3,  7,  2,  4,\n",
            "         3,  6,  8,  0,  9,  7,  5,  9,  1, 10,  6,  2,  4], device='cuda:0'), soft loss: 20.003238677978516\n",
            "Chromatic Number: 11\n",
            "GNN runtime: 8899.3218s\n"
          ]
        }
      ],
      "source": [
        "t_start = time()\n",
        "\n",
        "probs, best_coloring, best_loss, final_coloring, final_loss, epoch_num = run_gnn_training(\n",
        "    nx_graph, dgl_graph, adj_, net, embed, optimizer, hypers['number_epochs'],\n",
        "    hypers['patience'], hypers['tolerance'], seed=SEED_VALUE)\n",
        "\n",
        "a_list = final_coloring.tolist()\n",
        "chromatic_num = max(a_list)+1\n",
        "print(\"Chromatic Number:\", chromatic_num )\n",
        "\n",
        "\n",
        "runtime_gnn = round(time() - t_start, 4)\n",
        "\n",
        "# report results\n",
        "print(f'GNN runtime: {runtime_gnn}s')\n"
      ]
    },
    {
      "cell_type": "code",
      "source": [
        "# check for color violations\n",
        "best_cost_hard = loss_func_color_hard(best_coloring, nx_graph)\n",
        "\n",
        "print(f'Best (hard) cost of coloring (n_class={hypers[\"number_classes\"]}): {best_cost_hard}')"
      ],
      "metadata": {
        "colab": {
          "base_uri": "https://localhost:8080/"
        },
        "id": "hfRmfhD1H8es",
        "outputId": "f4cf4b57-a7cb-4a6a-bcb9-84fd6b89dd45"
      },
      "execution_count": null,
      "outputs": [
        {
          "output_type": "stream",
          "name": "stdout",
          "text": [
            "Best (hard) cost of coloring (n_class=11): 18\n"
          ]
        }
      ]
    }
  ],
  "metadata": {
    "colab": {
      "provenance": [],
      "include_colab_link": true
    },
    "kernelspec": {
      "display_name": "Python 3",
      "name": "python3"
    },
    "language_info": {
      "name": "python"
    }
  },
  "nbformat": 4,
  "nbformat_minor": 0
}